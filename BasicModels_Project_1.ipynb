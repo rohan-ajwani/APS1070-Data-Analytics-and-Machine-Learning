{
  "nbformat": 4,
  "nbformat_minor": 0,
  "metadata": {
    "kernelspec": {
      "display_name": "Python 3",
      "language": "python",
      "name": "python3"
    },
    "language_info": {
      "codemirror_mode": {
        "name": "ipython",
        "version": 3
      },
      "file_extension": ".py",
      "mimetype": "text/x-python",
      "name": "python",
      "nbconvert_exporter": "python",
      "pygments_lexer": "ipython3",
      "version": "3.7.4"
    },
    "colab": {
      "provenance": [],
      "collapsed_sections": []
    }
  },
  "cells": [
    {
      "cell_type": "markdown",
      "metadata": {
        "id": "08owH-AVyZCX"
      },
      "source": [
        "# **Project 1**, APS1070 Summer 2022\n",
        "\n",
        "## **Basic Principles and Models**"
      ]
    },
    {
      "cell_type": "markdown",
      "metadata": {
        "id": "yYlo7mIXyZFe"
      },
      "source": [
        "# Project 1 [10 Marks] \n\n",
        
        "We're going to work with a breast cancer dataset. Download it using the cell below:"
      ]
    },
    {
      "cell_type": "code",
      "metadata": {
        "id": "YFo8KVcryZFe"
      },
      "source": [
        "from sklearn.datasets import load_breast_cancer\n",
        "dataset = load_breast_cancer()"
      ],
      "execution_count": null,
      "outputs": []
    },
    {
      "cell_type": "code",
      "source": [
        "#printing the dataset\n",
        "print(dataset)"
      ],
      "metadata": {
        "colab": {
          "base_uri": "https://localhost:8080/"
        },
        "id": "Kx9nNUbkdvx7",
        "outputId": "c5d3ad5b-7ae5-400b-b1ac-5c31a3fa91c9"
      },
      "execution_count": null,
      "outputs": [
        {
          "output_type": "stream",
          "name": "stdout",
          "text": [
            "{'data': array([[1.799e+01, 1.038e+01, 1.228e+02, ..., 2.654e-01, 4.601e-01,\n",
            "        1.189e-01],\n",
            "       [2.057e+01, 1.777e+01, 1.329e+02, ..., 1.860e-01, 2.750e-01,\n",
            "        8.902e-02],\n",
            "       [1.969e+01, 2.125e+01, 1.300e+02, ..., 2.430e-01, 3.613e-01,\n",
            "        8.758e-02],\n",
            "       ...,\n",
            "       [1.660e+01, 2.808e+01, 1.083e+02, ..., 1.418e-01, 2.218e-01,\n",
            "        7.820e-02],\n",
            "       [2.060e+01, 2.933e+01, 1.401e+02, ..., 2.650e-01, 4.087e-01,\n",
            "        1.240e-01],\n",
            "       [7.760e+00, 2.454e+01, 4.792e+01, ..., 0.000e+00, 2.871e-01,\n",
            "        7.039e-02]]), 'target': array([0, 0, 0, 0, 0, 0, 0, 0, 0, 0, 0, 0, 0, 0, 0, 0, 0, 0, 0, 1, 1, 1,\n",
            "       0, 0, 0, 0, 0, 0, 0, 0, 0, 0, 0, 0, 0, 0, 0, 1, 0, 0, 0, 0, 0, 0,\n",
            "       0, 0, 1, 0, 1, 1, 1, 1, 1, 0, 0, 1, 0, 0, 1, 1, 1, 1, 0, 1, 0, 0,\n",
            "       1, 1, 1, 1, 0, 1, 0, 0, 1, 0, 1, 0, 0, 1, 1, 1, 0, 0, 1, 0, 0, 0,\n",
            "       1, 1, 1, 0, 1, 1, 0, 0, 1, 1, 1, 0, 0, 1, 1, 1, 1, 0, 1, 1, 0, 1,\n",
            "       1, 1, 1, 1, 1, 1, 1, 0, 0, 0, 1, 0, 0, 1, 1, 1, 0, 0, 1, 0, 1, 0,\n",
            "       0, 1, 0, 0, 1, 1, 0, 1, 1, 0, 1, 1, 1, 1, 0, 1, 1, 1, 1, 1, 1, 1,\n",
            "       1, 1, 0, 1, 1, 1, 1, 0, 0, 1, 0, 1, 1, 0, 0, 1, 1, 0, 0, 1, 1, 1,\n",
            "       1, 0, 1, 1, 0, 0, 0, 1, 0, 1, 0, 1, 1, 1, 0, 1, 1, 0, 0, 1, 0, 0,\n",
            "       0, 0, 1, 0, 0, 0, 1, 0, 1, 0, 1, 1, 0, 1, 0, 0, 0, 0, 1, 1, 0, 0,\n",
            "       1, 1, 1, 0, 1, 1, 1, 1, 1, 0, 0, 1, 1, 0, 1, 1, 0, 0, 1, 0, 1, 1,\n",
            "       1, 1, 0, 1, 1, 1, 1, 1, 0, 1, 0, 0, 0, 0, 0, 0, 0, 0, 0, 0, 0, 0,\n",
            "       0, 0, 1, 1, 1, 1, 1, 1, 0, 1, 0, 1, 1, 0, 1, 1, 0, 1, 0, 0, 1, 1,\n",
            "       1, 1, 1, 1, 1, 1, 1, 1, 1, 1, 1, 0, 1, 1, 0, 1, 0, 1, 1, 1, 1, 1,\n",
            "       1, 1, 1, 1, 1, 1, 1, 1, 1, 0, 1, 1, 1, 0, 1, 0, 1, 1, 1, 1, 0, 0,\n",
            "       0, 1, 1, 1, 1, 0, 1, 0, 1, 0, 1, 1, 1, 0, 1, 1, 1, 1, 1, 1, 1, 0,\n",
            "       0, 0, 1, 1, 1, 1, 1, 1, 1, 1, 1, 1, 1, 0, 0, 1, 0, 0, 0, 1, 0, 0,\n",
            "       1, 1, 1, 1, 1, 0, 1, 1, 1, 1, 1, 0, 1, 1, 1, 0, 1, 1, 0, 0, 1, 1,\n",
            "       1, 1, 1, 1, 0, 1, 1, 1, 1, 1, 1, 1, 0, 1, 1, 1, 1, 1, 0, 1, 1, 0,\n",
            "       1, 1, 1, 1, 1, 1, 1, 1, 1, 1, 1, 1, 0, 1, 0, 0, 1, 0, 1, 1, 1, 1,\n",
            "       1, 0, 1, 1, 0, 1, 0, 1, 1, 0, 1, 0, 1, 1, 1, 1, 1, 1, 1, 1, 0, 0,\n",
            "       1, 1, 1, 1, 1, 1, 0, 1, 1, 1, 1, 1, 1, 1, 1, 1, 1, 0, 1, 1, 1, 1,\n",
            "       1, 1, 1, 0, 1, 0, 1, 1, 0, 1, 1, 1, 1, 1, 0, 0, 1, 0, 1, 0, 1, 1,\n",
            "       1, 1, 1, 0, 1, 1, 0, 1, 0, 1, 0, 0, 1, 1, 1, 0, 1, 1, 1, 1, 1, 1,\n",
            "       1, 1, 1, 1, 1, 0, 1, 0, 0, 1, 1, 1, 1, 1, 1, 1, 1, 1, 1, 1, 1, 1,\n",
            "       1, 1, 1, 1, 1, 1, 1, 1, 1, 1, 1, 1, 0, 0, 0, 0, 0, 0, 1]), 'frame': None, 'target_names': array(['malignant', 'benign'], dtype='<U9'), 'DESCR': '.. _breast_cancer_dataset:\\n\\nBreast cancer wisconsin (diagnostic) dataset\\n--------------------------------------------\\n\\n**Data Set Characteristics:**\\n\\n    :Number of Instances: 569\\n\\n    :Number of Attributes: 30 numeric, predictive attributes and the class\\n\\n    :Attribute Information:\\n        - radius (mean of distances from center to points on the perimeter)\\n        - texture (standard deviation of gray-scale values)\\n        - perimeter\\n        - area\\n        - smoothness (local variation in radius lengths)\\n        - compactness (perimeter^2 / area - 1.0)\\n        - concavity (severity of concave portions of the contour)\\n        - concave points (number of concave portions of the contour)\\n        - symmetry\\n        - fractal dimension (\"coastline approximation\" - 1)\\n\\n        The mean, standard error, and \"worst\" or largest (mean of the three\\n        worst/largest values) of these features were computed for each image,\\n        resulting in 30 features.  For instance, field 0 is Mean Radius, field\\n        10 is Radius SE, field 20 is Worst Radius.\\n\\n        - class:\\n                - WDBC-Malignant\\n                - WDBC-Benign\\n\\n    :Summary Statistics:\\n\\n    ===================================== ====== ======\\n                                           Min    Max\\n    ===================================== ====== ======\\n    radius (mean):                        6.981  28.11\\n    texture (mean):                       9.71   39.28\\n    perimeter (mean):                     43.79  188.5\\n    area (mean):                          143.5  2501.0\\n    smoothness (mean):                    0.053  0.163\\n    compactness (mean):                   0.019  0.345\\n    concavity (mean):                     0.0    0.427\\n    concave points (mean):                0.0    0.201\\n    symmetry (mean):                      0.106  0.304\\n    fractal dimension (mean):             0.05   0.097\\n    radius (standard error):              0.112  2.873\\n    texture (standard error):             0.36   4.885\\n    perimeter (standard error):           0.757  21.98\\n    area (standard error):                6.802  542.2\\n    smoothness (standard error):          0.002  0.031\\n    compactness (standard error):         0.002  0.135\\n    concavity (standard error):           0.0    0.396\\n    concave points (standard error):      0.0    0.053\\n    symmetry (standard error):            0.008  0.079\\n    fractal dimension (standard error):   0.001  0.03\\n    radius (worst):                       7.93   36.04\\n    texture (worst):                      12.02  49.54\\n    perimeter (worst):                    50.41  251.2\\n    area (worst):                         185.2  4254.0\\n    smoothness (worst):                   0.071  0.223\\n    compactness (worst):                  0.027  1.058\\n    concavity (worst):                    0.0    1.252\\n    concave points (worst):               0.0    0.291\\n    symmetry (worst):                     0.156  0.664\\n    fractal dimension (worst):            0.055  0.208\\n    ===================================== ====== ======\\n\\n    :Missing Attribute Values: None\\n\\n    :Class Distribution: 212 - Malignant, 357 - Benign\\n\\n    :Creator:  Dr. William H. Wolberg, W. Nick Street, Olvi L. Mangasarian\\n\\n    :Donor: Nick Street\\n\\n    :Date: November, 1995\\n\\nThis is a copy of UCI ML Breast Cancer Wisconsin (Diagnostic) datasets.\\nhttps://goo.gl/U2Uwz2\\n\\nFeatures are computed from a digitized image of a fine needle\\naspirate (FNA) of a breast mass.  They describe\\ncharacteristics of the cell nuclei present in the image.\\n\\nSeparating plane described above was obtained using\\nMultisurface Method-Tree (MSM-T) [K. P. Bennett, \"Decision Tree\\nConstruction Via Linear Programming.\" Proceedings of the 4th\\nMidwest Artificial Intelligence and Cognitive Science Society,\\npp. 97-101, 1992], a classification method which uses linear\\nprogramming to construct a decision tree.  Relevant features\\nwere selected using an exhaustive search in the space of 1-4\\nfeatures and 1-3 separating planes.\\n\\nThe actual linear program used to obtain the separating plane\\nin the 3-dimensional space is that described in:\\n[K. P. Bennett and O. L. Mangasarian: \"Robust Linear\\nProgramming Discrimination of Two Linearly Inseparable Sets\",\\nOptimization Methods and Software 1, 1992, 23-34].\\n\\nThis database is also available through the UW CS ftp server:\\n\\nftp ftp.cs.wisc.edu\\ncd math-prog/cpo-dataset/machine-learn/WDBC/\\n\\n.. topic:: References\\n\\n   - W.N. Street, W.H. Wolberg and O.L. Mangasarian. Nuclear feature extraction \\n     for breast tumor diagnosis. IS&T/SPIE 1993 International Symposium on \\n     Electronic Imaging: Science and Technology, volume 1905, pages 861-870,\\n     San Jose, CA, 1993.\\n   - O.L. Mangasarian, W.N. Street and W.H. Wolberg. Breast cancer diagnosis and \\n     prognosis via linear programming. Operations Research, 43(4), pages 570-577, \\n     July-August 1995.\\n   - W.H. Wolberg, W.N. Street, and O.L. Mangasarian. Machine learning techniques\\n     to diagnose breast cancer from fine-needle aspirates. Cancer Letters 77 (1994) \\n     163-171.', 'feature_names': array(['mean radius', 'mean texture', 'mean perimeter', 'mean area',\n",
            "       'mean smoothness', 'mean compactness', 'mean concavity',\n",
            "       'mean concave points', 'mean symmetry', 'mean fractal dimension',\n",
            "       'radius error', 'texture error', 'perimeter error', 'area error',\n",
            "       'smoothness error', 'compactness error', 'concavity error',\n",
            "       'concave points error', 'symmetry error',\n",
            "       'fractal dimension error', 'worst radius', 'worst texture',\n",
            "       'worst perimeter', 'worst area', 'worst smoothness',\n",
            "       'worst compactness', 'worst concavity', 'worst concave points',\n",
            "       'worst symmetry', 'worst fractal dimension'], dtype='<U23'), 'filename': 'breast_cancer.csv', 'data_module': 'sklearn.datasets.data'}\n"
          ]
        }
      ]
    },
    {
      "cell_type": "markdown",
      "metadata": {
        "id": "gOGmwyQNyZFh"
      },
      "source": [
        "## Part 1: Getting started [2 Marks]\n",
        "First off, take a look at the `data`, `target` and `feature_names` entries in the `dataset` dictionary. They contain the information we'll be working with here. Then, create a Pandas DataFrame called `df` containing the data and the targets with the feature names as column headings. If you need help, see [here](https://pandas.pydata.org/pandas-docs/stable/reference/api/pandas.DataFrame.html) for more details on how to achieve this. **[0.4]**\n",
        "* How many features do we have in this dataset? **30**\n",
        "* How many observations have a 'mean area' of greater than 700? **171**\n",
        "* How many participants tested `Malignant`? **212**\n",
        "* How many participants tested `Benign`? **357**"
      ]
    },
    {
      "cell_type": "code",
      "source": [
        "print(dataset.feature_names)\n",
        "print(len(dataset.feature_names))\n",
        "print(dataset.feature_names.tolist().index('mean area'))  #column representing mean area\n",
        "print((dataset.data[:,3]>700).sum())  #number of observations that have mean area greater than 700\n",
        "print(dataset.target_names)\n",
        "print((dataset.target==0).sum())  #number of patients that tested malignant\n",
        "print((dataset.target==1).sum())  #number of patients that tested benign\n"
      ],
      "metadata": {
        "colab": {
          "base_uri": "https://localhost:8080/"
        },
        "id": "_kKP3aAxdkii",
        "outputId": "0bd8537b-4b57-419b-fe0e-7f2f323980a8"
      },
      "execution_count": null,
      "outputs": [
        {
          "output_type": "stream",
          "name": "stdout",
          "text": [
            "['mean radius' 'mean texture' 'mean perimeter' 'mean area'\n",
            " 'mean smoothness' 'mean compactness' 'mean concavity'\n",
            " 'mean concave points' 'mean symmetry' 'mean fractal dimension'\n",
            " 'radius error' 'texture error' 'perimeter error' 'area error'\n",
            " 'smoothness error' 'compactness error' 'concavity error'\n",
            " 'concave points error' 'symmetry error' 'fractal dimension error'\n",
            " 'worst radius' 'worst texture' 'worst perimeter' 'worst area'\n",
            " 'worst smoothness' 'worst compactness' 'worst concavity'\n",
            " 'worst concave points' 'worst symmetry' 'worst fractal dimension']\n",
            "30\n",
            "3\n",
            "171\n",
            "['malignant' 'benign']\n",
            "212\n",
            "357\n"
          ]
        }
      ]
    },
    {
      "cell_type": "code",
      "source": [
        "import pandas as pd\n",
        "\n",
        "#create dataframe from dataset\n",
        "df = pd.DataFrame(data=dataset.data, columns=dataset.feature_names)\n",
        "\n",
        "#add new column target contains value of target from dataset\n",
        "df[\"target\"] = dataset.target\n",
        "\n",
        "#print the dataframe df\n",
        "df"
      ],
      "metadata": {
        "colab": {
          "base_uri": "https://localhost:8080/",
          "height": 522
        },
        "id": "BHvnrq-58iHg",
        "outputId": "3302f745-602e-40e6-a4af-4192b3fe2c5a"
      },
      "execution_count": null,
      "outputs": [
        {
          "output_type": "execute_result",
          "data": {
            "text/plain": [
              "     mean radius  mean texture  mean perimeter  mean area  mean smoothness  \\\n",
              "0          17.99         10.38          122.80     1001.0          0.11840   \n",
              "1          20.57         17.77          132.90     1326.0          0.08474   \n",
              "2          19.69         21.25          130.00     1203.0          0.10960   \n",
              "3          11.42         20.38           77.58      386.1          0.14250   \n",
              "4          20.29         14.34          135.10     1297.0          0.10030   \n",
              "..           ...           ...             ...        ...              ...   \n",
              "564        21.56         22.39          142.00     1479.0          0.11100   \n",
              "565        20.13         28.25          131.20     1261.0          0.09780   \n",
              "566        16.60         28.08          108.30      858.1          0.08455   \n",
              "567        20.60         29.33          140.10     1265.0          0.11780   \n",
              "568         7.76         24.54           47.92      181.0          0.05263   \n",
              "\n",
              "     mean compactness  mean concavity  mean concave points  mean symmetry  \\\n",
              "0             0.27760         0.30010              0.14710         0.2419   \n",
              "1             0.07864         0.08690              0.07017         0.1812   \n",
              "2             0.15990         0.19740              0.12790         0.2069   \n",
              "3             0.28390         0.24140              0.10520         0.2597   \n",
              "4             0.13280         0.19800              0.10430         0.1809   \n",
              "..                ...             ...                  ...            ...   \n",
              "564           0.11590         0.24390              0.13890         0.1726   \n",
              "565           0.10340         0.14400              0.09791         0.1752   \n",
              "566           0.10230         0.09251              0.05302         0.1590   \n",
              "567           0.27700         0.35140              0.15200         0.2397   \n",
              "568           0.04362         0.00000              0.00000         0.1587   \n",
              "\n",
              "     mean fractal dimension  ...  worst texture  worst perimeter  worst area  \\\n",
              "0                   0.07871  ...          17.33           184.60      2019.0   \n",
              "1                   0.05667  ...          23.41           158.80      1956.0   \n",
              "2                   0.05999  ...          25.53           152.50      1709.0   \n",
              "3                   0.09744  ...          26.50            98.87       567.7   \n",
              "4                   0.05883  ...          16.67           152.20      1575.0   \n",
              "..                      ...  ...            ...              ...         ...   \n",
              "564                 0.05623  ...          26.40           166.10      2027.0   \n",
              "565                 0.05533  ...          38.25           155.00      1731.0   \n",
              "566                 0.05648  ...          34.12           126.70      1124.0   \n",
              "567                 0.07016  ...          39.42           184.60      1821.0   \n",
              "568                 0.05884  ...          30.37            59.16       268.6   \n",
              "\n",
              "     worst smoothness  worst compactness  worst concavity  \\\n",
              "0             0.16220            0.66560           0.7119   \n",
              "1             0.12380            0.18660           0.2416   \n",
              "2             0.14440            0.42450           0.4504   \n",
              "3             0.20980            0.86630           0.6869   \n",
              "4             0.13740            0.20500           0.4000   \n",
              "..                ...                ...              ...   \n",
              "564           0.14100            0.21130           0.4107   \n",
              "565           0.11660            0.19220           0.3215   \n",
              "566           0.11390            0.30940           0.3403   \n",
              "567           0.16500            0.86810           0.9387   \n",
              "568           0.08996            0.06444           0.0000   \n",
              "\n",
              "     worst concave points  worst symmetry  worst fractal dimension  target  \n",
              "0                  0.2654          0.4601                  0.11890       0  \n",
              "1                  0.1860          0.2750                  0.08902       0  \n",
              "2                  0.2430          0.3613                  0.08758       0  \n",
              "3                  0.2575          0.6638                  0.17300       0  \n",
              "4                  0.1625          0.2364                  0.07678       0  \n",
              "..                    ...             ...                      ...     ...  \n",
              "564                0.2216          0.2060                  0.07115       0  \n",
              "565                0.1628          0.2572                  0.06637       0  \n",
              "566                0.1418          0.2218                  0.07820       0  \n",
              "567                0.2650          0.4087                  0.12400       0  \n",
              "568                0.0000          0.2871                  0.07039       1  \n",
              "\n",
              "[569 rows x 31 columns]"
            ],
            "text/html": [
              "\n",
              "  <div id=\"df-fb59d236-740a-47bf-a2d5-72e22b776b34\">\n",
              "    <div class=\"colab-df-container\">\n",
              "      <div>\n",
              "<style scoped>\n",
              "    .dataframe tbody tr th:only-of-type {\n",
              "        vertical-align: middle;\n",
              "    }\n",
              "\n",
              "    .dataframe tbody tr th {\n",
              "        vertical-align: top;\n",
              "    }\n",
              "\n",
              "    .dataframe thead th {\n",
              "        text-align: right;\n",
              "    }\n",
              "</style>\n",
              "<table border=\"1\" class=\"dataframe\">\n",
              "  <thead>\n",
              "    <tr style=\"text-align: right;\">\n",
              "      <th></th>\n",
              "      <th>mean radius</th>\n",
              "      <th>mean texture</th>\n",
              "      <th>mean perimeter</th>\n",
              "      <th>mean area</th>\n",
              "      <th>mean smoothness</th>\n",
              "      <th>mean compactness</th>\n",
              "      <th>mean concavity</th>\n",
              "      <th>mean concave points</th>\n",
              "      <th>mean symmetry</th>\n",
              "      <th>mean fractal dimension</th>\n",
              "      <th>...</th>\n",
              "      <th>worst texture</th>\n",
              "      <th>worst perimeter</th>\n",
              "      <th>worst area</th>\n",
              "      <th>worst smoothness</th>\n",
              "      <th>worst compactness</th>\n",
              "      <th>worst concavity</th>\n",
              "      <th>worst concave points</th>\n",
              "      <th>worst symmetry</th>\n",
              "      <th>worst fractal dimension</th>\n",
              "      <th>target</th>\n",
              "    </tr>\n",
              "  </thead>\n",
              "  <tbody>\n",
              "    <tr>\n",
              "      <th>0</th>\n",
              "      <td>17.99</td>\n",
              "      <td>10.38</td>\n",
              "      <td>122.80</td>\n",
              "      <td>1001.0</td>\n",
              "      <td>0.11840</td>\n",
              "      <td>0.27760</td>\n",
              "      <td>0.30010</td>\n",
              "      <td>0.14710</td>\n",
              "      <td>0.2419</td>\n",
              "      <td>0.07871</td>\n",
              "      <td>...</td>\n",
              "      <td>17.33</td>\n",
              "      <td>184.60</td>\n",
              "      <td>2019.0</td>\n",
              "      <td>0.16220</td>\n",
              "      <td>0.66560</td>\n",
              "      <td>0.7119</td>\n",
              "      <td>0.2654</td>\n",
              "      <td>0.4601</td>\n",
              "      <td>0.11890</td>\n",
              "      <td>0</td>\n",
              "    </tr>\n",
              "    <tr>\n",
              "      <th>1</th>\n",
              "      <td>20.57</td>\n",
              "      <td>17.77</td>\n",
              "      <td>132.90</td>\n",
              "      <td>1326.0</td>\n",
              "      <td>0.08474</td>\n",
              "      <td>0.07864</td>\n",
              "      <td>0.08690</td>\n",
              "      <td>0.07017</td>\n",
              "      <td>0.1812</td>\n",
              "      <td>0.05667</td>\n",
              "      <td>...</td>\n",
              "      <td>23.41</td>\n",
              "      <td>158.80</td>\n",
              "      <td>1956.0</td>\n",
              "      <td>0.12380</td>\n",
              "      <td>0.18660</td>\n",
              "      <td>0.2416</td>\n",
              "      <td>0.1860</td>\n",
              "      <td>0.2750</td>\n",
              "      <td>0.08902</td>\n",
              "      <td>0</td>\n",
              "    </tr>\n",
              "    <tr>\n",
              "      <th>2</th>\n",
              "      <td>19.69</td>\n",
              "      <td>21.25</td>\n",
              "      <td>130.00</td>\n",
              "      <td>1203.0</td>\n",
              "      <td>0.10960</td>\n",
              "      <td>0.15990</td>\n",
              "      <td>0.19740</td>\n",
              "      <td>0.12790</td>\n",
              "      <td>0.2069</td>\n",
              "      <td>0.05999</td>\n",
              "      <td>...</td>\n",
              "      <td>25.53</td>\n",
              "      <td>152.50</td>\n",
              "      <td>1709.0</td>\n",
              "      <td>0.14440</td>\n",
              "      <td>0.42450</td>\n",
              "      <td>0.4504</td>\n",
              "      <td>0.2430</td>\n",
              "      <td>0.3613</td>\n",
              "      <td>0.08758</td>\n",
              "      <td>0</td>\n",
              "    </tr>\n",
              "    <tr>\n",
              "      <th>3</th>\n",
              "      <td>11.42</td>\n",
              "      <td>20.38</td>\n",
              "      <td>77.58</td>\n",
              "      <td>386.1</td>\n",
              "      <td>0.14250</td>\n",
              "      <td>0.28390</td>\n",
              "      <td>0.24140</td>\n",
              "      <td>0.10520</td>\n",
              "      <td>0.2597</td>\n",
              "      <td>0.09744</td>\n",
              "      <td>...</td>\n",
              "      <td>26.50</td>\n",
              "      <td>98.87</td>\n",
              "      <td>567.7</td>\n",
              "      <td>0.20980</td>\n",
              "      <td>0.86630</td>\n",
              "      <td>0.6869</td>\n",
              "      <td>0.2575</td>\n",
              "      <td>0.6638</td>\n",
              "      <td>0.17300</td>\n",
              "      <td>0</td>\n",
              "    </tr>\n",
              "    <tr>\n",
              "      <th>4</th>\n",
              "      <td>20.29</td>\n",
              "      <td>14.34</td>\n",
              "      <td>135.10</td>\n",
              "      <td>1297.0</td>\n",
              "      <td>0.10030</td>\n",
              "      <td>0.13280</td>\n",
              "      <td>0.19800</td>\n",
              "      <td>0.10430</td>\n",
              "      <td>0.1809</td>\n",
              "      <td>0.05883</td>\n",
              "      <td>...</td>\n",
              "      <td>16.67</td>\n",
              "      <td>152.20</td>\n",
              "      <td>1575.0</td>\n",
              "      <td>0.13740</td>\n",
              "      <td>0.20500</td>\n",
              "      <td>0.4000</td>\n",
              "      <td>0.1625</td>\n",
              "      <td>0.2364</td>\n",
              "      <td>0.07678</td>\n",
              "      <td>0</td>\n",
              "    </tr>\n",
              "    <tr>\n",
              "      <th>...</th>\n",
              "      <td>...</td>\n",
              "      <td>...</td>\n",
              "      <td>...</td>\n",
              "      <td>...</td>\n",
              "      <td>...</td>\n",
              "      <td>...</td>\n",
              "      <td>...</td>\n",
              "      <td>...</td>\n",
              "      <td>...</td>\n",
              "      <td>...</td>\n",
              "      <td>...</td>\n",
              "      <td>...</td>\n",
              "      <td>...</td>\n",
              "      <td>...</td>\n",
              "      <td>...</td>\n",
              "      <td>...</td>\n",
              "      <td>...</td>\n",
              "      <td>...</td>\n",
              "      <td>...</td>\n",
              "      <td>...</td>\n",
              "      <td>...</td>\n",
              "    </tr>\n",
              "    <tr>\n",
              "      <th>564</th>\n",
              "      <td>21.56</td>\n",
              "      <td>22.39</td>\n",
              "      <td>142.00</td>\n",
              "      <td>1479.0</td>\n",
              "      <td>0.11100</td>\n",
              "      <td>0.11590</td>\n",
              "      <td>0.24390</td>\n",
              "      <td>0.13890</td>\n",
              "      <td>0.1726</td>\n",
              "      <td>0.05623</td>\n",
              "      <td>...</td>\n",
              "      <td>26.40</td>\n",
              "      <td>166.10</td>\n",
              "      <td>2027.0</td>\n",
              "      <td>0.14100</td>\n",
              "      <td>0.21130</td>\n",
              "      <td>0.4107</td>\n",
              "      <td>0.2216</td>\n",
              "      <td>0.2060</td>\n",
              "      <td>0.07115</td>\n",
              "      <td>0</td>\n",
              "    </tr>\n",
              "    <tr>\n",
              "      <th>565</th>\n",
              "      <td>20.13</td>\n",
              "      <td>28.25</td>\n",
              "      <td>131.20</td>\n",
              "      <td>1261.0</td>\n",
              "      <td>0.09780</td>\n",
              "      <td>0.10340</td>\n",
              "      <td>0.14400</td>\n",
              "      <td>0.09791</td>\n",
              "      <td>0.1752</td>\n",
              "      <td>0.05533</td>\n",
              "      <td>...</td>\n",
              "      <td>38.25</td>\n",
              "      <td>155.00</td>\n",
              "      <td>1731.0</td>\n",
              "      <td>0.11660</td>\n",
              "      <td>0.19220</td>\n",
              "      <td>0.3215</td>\n",
              "      <td>0.1628</td>\n",
              "      <td>0.2572</td>\n",
              "      <td>0.06637</td>\n",
              "      <td>0</td>\n",
              "    </tr>\n",
              "    <tr>\n",
              "      <th>566</th>\n",
              "      <td>16.60</td>\n",
              "      <td>28.08</td>\n",
              "      <td>108.30</td>\n",
              "      <td>858.1</td>\n",
              "      <td>0.08455</td>\n",
              "      <td>0.10230</td>\n",
              "      <td>0.09251</td>\n",
              "      <td>0.05302</td>\n",
              "      <td>0.1590</td>\n",
              "      <td>0.05648</td>\n",
              "      <td>...</td>\n",
              "      <td>34.12</td>\n",
              "      <td>126.70</td>\n",
              "      <td>1124.0</td>\n",
              "      <td>0.11390</td>\n",
              "      <td>0.30940</td>\n",
              "      <td>0.3403</td>\n",
              "      <td>0.1418</td>\n",
              "      <td>0.2218</td>\n",
              "      <td>0.07820</td>\n",
              "      <td>0</td>\n",
              "    </tr>\n",
              "    <tr>\n",
              "      <th>567</th>\n",
              "      <td>20.60</td>\n",
              "      <td>29.33</td>\n",
              "      <td>140.10</td>\n",
              "      <td>1265.0</td>\n",
              "      <td>0.11780</td>\n",
              "      <td>0.27700</td>\n",
              "      <td>0.35140</td>\n",
              "      <td>0.15200</td>\n",
              "      <td>0.2397</td>\n",
              "      <td>0.07016</td>\n",
              "      <td>...</td>\n",
              "      <td>39.42</td>\n",
              "      <td>184.60</td>\n",
              "      <td>1821.0</td>\n",
              "      <td>0.16500</td>\n",
              "      <td>0.86810</td>\n",
              "      <td>0.9387</td>\n",
              "      <td>0.2650</td>\n",
              "      <td>0.4087</td>\n",
              "      <td>0.12400</td>\n",
              "      <td>0</td>\n",
              "    </tr>\n",
              "    <tr>\n",
              "      <th>568</th>\n",
              "      <td>7.76</td>\n",
              "      <td>24.54</td>\n",
              "      <td>47.92</td>\n",
              "      <td>181.0</td>\n",
              "      <td>0.05263</td>\n",
              "      <td>0.04362</td>\n",
              "      <td>0.00000</td>\n",
              "      <td>0.00000</td>\n",
              "      <td>0.1587</td>\n",
              "      <td>0.05884</td>\n",
              "      <td>...</td>\n",
              "      <td>30.37</td>\n",
              "      <td>59.16</td>\n",
              "      <td>268.6</td>\n",
              "      <td>0.08996</td>\n",
              "      <td>0.06444</td>\n",
              "      <td>0.0000</td>\n",
              "      <td>0.0000</td>\n",
              "      <td>0.2871</td>\n",
              "      <td>0.07039</td>\n",
              "      <td>1</td>\n",
              "    </tr>\n",
              "  </tbody>\n",
              "</table>\n",
              "<p>569 rows × 31 columns</p>\n",
              "</div>\n",
              "      <button class=\"colab-df-convert\" onclick=\"convertToInteractive('df-fb59d236-740a-47bf-a2d5-72e22b776b34')\"\n",
              "              title=\"Convert this dataframe to an interactive table.\"\n",
              "              style=\"display:none;\">\n",
              "        \n",
              "  <svg xmlns=\"http://www.w3.org/2000/svg\" height=\"24px\"viewBox=\"0 0 24 24\"\n",
              "       width=\"24px\">\n",
              "    <path d=\"M0 0h24v24H0V0z\" fill=\"none\"/>\n",
              "    <path d=\"M18.56 5.44l.94 2.06.94-2.06 2.06-.94-2.06-.94-.94-2.06-.94 2.06-2.06.94zm-11 1L8.5 8.5l.94-2.06 2.06-.94-2.06-.94L8.5 2.5l-.94 2.06-2.06.94zm10 10l.94 2.06.94-2.06 2.06-.94-2.06-.94-.94-2.06-.94 2.06-2.06.94z\"/><path d=\"M17.41 7.96l-1.37-1.37c-.4-.4-.92-.59-1.43-.59-.52 0-1.04.2-1.43.59L10.3 9.45l-7.72 7.72c-.78.78-.78 2.05 0 2.83L4 21.41c.39.39.9.59 1.41.59.51 0 1.02-.2 1.41-.59l7.78-7.78 2.81-2.81c.8-.78.8-2.07 0-2.86zM5.41 20L4 18.59l7.72-7.72 1.47 1.35L5.41 20z\"/>\n",
              "  </svg>\n",
              "      </button>\n",
              "      \n",
              "  <style>\n",
              "    .colab-df-container {\n",
              "      display:flex;\n",
              "      flex-wrap:wrap;\n",
              "      gap: 12px;\n",
              "    }\n",
              "\n",
              "    .colab-df-convert {\n",
              "      background-color: #E8F0FE;\n",
              "      border: none;\n",
              "      border-radius: 50%;\n",
              "      cursor: pointer;\n",
              "      display: none;\n",
              "      fill: #1967D2;\n",
              "      height: 32px;\n",
              "      padding: 0 0 0 0;\n",
              "      width: 32px;\n",
              "    }\n",
              "\n",
              "    .colab-df-convert:hover {\n",
              "      background-color: #E2EBFA;\n",
              "      box-shadow: 0px 1px 2px rgba(60, 64, 67, 0.3), 0px 1px 3px 1px rgba(60, 64, 67, 0.15);\n",
              "      fill: #174EA6;\n",
              "    }\n",
              "\n",
              "    [theme=dark] .colab-df-convert {\n",
              "      background-color: #3B4455;\n",
              "      fill: #D2E3FC;\n",
              "    }\n",
              "\n",
              "    [theme=dark] .colab-df-convert:hover {\n",
              "      background-color: #434B5C;\n",
              "      box-shadow: 0px 1px 3px 1px rgba(0, 0, 0, 0.15);\n",
              "      filter: drop-shadow(0px 1px 2px rgba(0, 0, 0, 0.3));\n",
              "      fill: #FFFFFF;\n",
              "    }\n",
              "  </style>\n",
              "\n",
              "      <script>\n",
              "        const buttonEl =\n",
              "          document.querySelector('#df-fb59d236-740a-47bf-a2d5-72e22b776b34 button.colab-df-convert');\n",
              "        buttonEl.style.display =\n",
              "          google.colab.kernel.accessAllowed ? 'block' : 'none';\n",
              "\n",
              "        async function convertToInteractive(key) {\n",
              "          const element = document.querySelector('#df-fb59d236-740a-47bf-a2d5-72e22b776b34');\n",
              "          const dataTable =\n",
              "            await google.colab.kernel.invokeFunction('convertToInteractive',\n",
              "                                                     [key], {});\n",
              "          if (!dataTable) return;\n",
              "\n",
              "          const docLinkHtml = 'Like what you see? Visit the ' +\n",
              "            '<a target=\"_blank\" href=https://colab.research.google.com/notebooks/data_table.ipynb>data table notebook</a>'\n",
              "            + ' to learn more about interactive tables.';\n",
              "          element.innerHTML = '';\n",
              "          dataTable['output_type'] = 'display_data';\n",
              "          await google.colab.output.renderOutput(dataTable, element);\n",
              "          const docLink = document.createElement('div');\n",
              "          docLink.innerHTML = docLinkHtml;\n",
              "          element.appendChild(docLink);\n",
              "        }\n",
              "      </script>\n",
              "    </div>\n",
              "  </div>\n",
              "  "
            ]
          },
          "metadata": {},
          "execution_count": 4
        }
      ]
    },
    {
      "cell_type": "markdown",
      "metadata": {
        "id": "YyqBEQXGq-B0"
      },
      "source": [
        "### Splitting the data\n",
        "It is best practice to have a training set (from which there is a rotating validation subset) and a test set. Our aim here is to (eventually) obtain the best accuracy we can on the test set (we'll do all our tuning on the training/validation sets, however.) \n",
        "\n",
        "**Split the dataset** into a train and a test set **\"70:30\"**, use **``random_state=0``**. The test set is set aside (untouched) for final evaluation, once hyperparameter optimization is complete. **[0.5]**"
      ]
    },
    {
      "cell_type": "code",
      "metadata": {
        "id": "A5equ6ied8eg"
      },
      "source": [
        "### YOUR CODE HERE ###\n",
        "\n",
        "features = dataset.data\n",
        "targets = dataset.target\n",
        "\n",
        "from sklearn.model_selection import train_test_split\n",
        "\n",
        "X_train, X_test, y_train, y_test = train_test_split(features ,targets , test_size=0.3, random_state=0)\n",
        "\n",
        "assert(len(X_train) == len(y_train))\n",
        "assert(len(X_test) == len(y_test))\n",
        "assert((len(X_train) + len(X_test) == len(features)))"
      ],
      "execution_count": null,
      "outputs": []
    },
    {
      "cell_type": "markdown",
      "metadata": {
        "id": "U_jNtkfce9Eg"
      },
      "source": [
        "### Effect of Standardization (Visual)\n",
        "Use `seaborn.lmplot` ([help here](https://seaborn.pydata.org/generated/seaborn.lmplot.html)) to visualize a few features of the training set. Draw a plot where the x-axis is ``worst smoothness``, the y-axis is ``worst fractal dimension,`` and the color of each datapoint indicates its class.  **[0.5]**\n",
        "\n",
        "Standardizing the data is often critical in machine learning. Show a plot as above, but with two features with very different scales. Standardize the data and plot those features again. What's different? Based on your observation, what is the advantage of standardization? **[0.6]**\n",
        "\n",
        "\n"
      ]
    },
    {
      "cell_type": "code",
      "metadata": {
        "id": "J684emSV8mJd",
        "colab": {
          "base_uri": "https://localhost:8080/",
          "height": 387
        },
        "outputId": "ed1acd24-6214-4bf2-8067-7e098a5c4517"
      },
      "source": [
        "### YOUR CODE HERE ###\n",
        "import seaborn\n",
        "seaborn.lmplot(x=\"worst smoothness\", y = \"worst fractal dimension\", data=df, hue=\"target\")"
      ],
      "execution_count": null,
      "outputs": [
        {
          "output_type": "execute_result",
          "data": {
            "text/plain": [
              "<seaborn.axisgrid.FacetGrid at 0x7f96a526ef50>"
            ]
          },
          "metadata": {},
          "execution_count": 6
        },
        {
          "output_type": "display_data",
          "data": {
            "text/plain": [
              "<Figure size 402.375x360 with 1 Axes>"
            ],
            "image/png": "[encoded data removed]"
          },
          "metadata": {
            "needs_background": "light"
          }
        }
      ]
    },
    {
      "cell_type": "code",
      "source": [
        "# standardizing the data\n",
        "from sklearn.preprocessing import StandardScaler\n",
        "\n",
        "scaler = StandardScaler()\n",
        "\n",
        "features_normalized = scaler.fit_transform(features)\n",
        "\n",
        "df_normalized = pd.DataFrame(data=features_normalized, columns=dataset.feature_names)\n",
        "\n",
        "df_normalized[\"target\"] = dataset.target\n",
        "\n",
        "seaborn.lmplot(x=\"worst smoothness\", y = \"worst fractal dimension\", data=df_normalized, hue=\"target\")"
      ],
      "metadata": {
        "id": "r7eCuo0R-4KA",
        "colab": {
          "base_uri": "https://localhost:8080/",
          "height": 387
        },
        "outputId": "2f6aff82-7b7d-43f0-90ed-e678a21400bf"
      },
      "execution_count": null,
      "outputs": [
        {
          "output_type": "execute_result",
          "data": {
            "text/plain": [
              "<seaborn.axisgrid.FacetGrid at 0x7f96a21b2ad0>"
            ]
          },
          "metadata": {},
          "execution_count": 7
        },
        {
          "output_type": "display_data",
          "data": {
            "text/plain": [
              "<Figure size 402.375x360 with 1 Axes>"
            ],
            "image/png": "[encoded data removed]"
          },
          "metadata": {
            "needs_background": "light"
          }
        }
      ]
    },
    {
      "cell_type": "code",
      "source": [
        "df_normalized"
      ],
      "metadata": {
        "colab": {
          "base_uri": "https://localhost:8080/",
          "height": 522
        },
        "id": "V5S1DYPVyFVm",
        "outputId": "9df47f0c-1b78-4034-c1b4-8902c0b73f23"
      },
      "execution_count": null,
      "outputs": [
        {
          "output_type": "execute_result",
          "data": {
            "text/plain": [
              "     mean radius  mean texture  mean perimeter  mean area  mean smoothness  \\\n",
              "0       1.097064     -2.073335        1.269934   0.984375         1.568466   \n",
              "1       1.829821     -0.353632        1.685955   1.908708        -0.826962   \n",
              "2       1.579888      0.456187        1.566503   1.558884         0.942210   \n",
              "3      -0.768909      0.253732       -0.592687  -0.764464         3.283553   \n",
              "4       1.750297     -1.151816        1.776573   1.826229         0.280372   \n",
              "..           ...           ...             ...        ...              ...   \n",
              "564     2.110995      0.721473        2.060786   2.343856         1.041842   \n",
              "565     1.704854      2.085134        1.615931   1.723842         0.102458   \n",
              "566     0.702284      2.045574        0.672676   0.577953        -0.840484   \n",
              "567     1.838341      2.336457        1.982524   1.735218         1.525767   \n",
              "568    -1.808401      1.221792       -1.814389  -1.347789        -3.112085   \n",
              "\n",
              "     mean compactness  mean concavity  mean concave points  mean symmetry  \\\n",
              "0            3.283515        2.652874             2.532475       2.217515   \n",
              "1           -0.487072       -0.023846             0.548144       0.001392   \n",
              "2            1.052926        1.363478             2.037231       0.939685   \n",
              "3            3.402909        1.915897             1.451707       2.867383   \n",
              "4            0.539340        1.371011             1.428493      -0.009560   \n",
              "..                ...             ...                  ...            ...   \n",
              "564          0.219060        1.947285             2.320965      -0.312589   \n",
              "565         -0.017833        0.693043             1.263669      -0.217664   \n",
              "566         -0.038680        0.046588             0.105777      -0.809117   \n",
              "567          3.272144        3.296944             2.658866       2.137194   \n",
              "568         -1.150752       -1.114873            -1.261820      -0.820070   \n",
              "\n",
              "     mean fractal dimension  ...  worst texture  worst perimeter  worst area  \\\n",
              "0                  2.255747  ...      -1.359293         2.303601    2.001237   \n",
              "1                 -0.868652  ...      -0.369203         1.535126    1.890489   \n",
              "2                 -0.398008  ...      -0.023974         1.347475    1.456285   \n",
              "3                  4.910919  ...       0.133984        -0.249939   -0.550021   \n",
              "4                 -0.562450  ...      -1.466770         1.338539    1.220724   \n",
              "..                      ...  ...            ...              ...         ...   \n",
              "564               -0.931027  ...       0.117700         1.752563    2.015301   \n",
              "565               -1.058611  ...       2.047399         1.421940    1.494959   \n",
              "566               -0.895587  ...       1.374854         0.579001    0.427906   \n",
              "567                1.043695  ...       2.237926         2.303601    1.653171   \n",
              "568               -0.561032  ...       0.764190        -1.432735   -1.075813   \n",
              "\n",
              "     worst smoothness  worst compactness  worst concavity  \\\n",
              "0            1.307686           2.616665         2.109526   \n",
              "1           -0.375612          -0.430444        -0.146749   \n",
              "2            0.527407           1.082932         0.854974   \n",
              "3            3.394275           3.893397         1.989588   \n",
              "4            0.220556          -0.313395         0.613179   \n",
              "..                ...                ...              ...   \n",
              "564          0.378365          -0.273318         0.664512   \n",
              "565         -0.691230          -0.394820         0.236573   \n",
              "566         -0.809587           0.350735         0.326767   \n",
              "567          1.430427           3.904848         3.197605   \n",
              "568         -1.859019          -1.207552        -1.305831   \n",
              "\n",
              "     worst concave points  worst symmetry  worst fractal dimension  target  \n",
              "0                2.296076        2.750622                 1.937015       0  \n",
              "1                1.087084       -0.243890                 0.281190       0  \n",
              "2                1.955000        1.152255                 0.201391       0  \n",
              "3                2.175786        6.046041                 4.935010       0  \n",
              "4                0.729259       -0.868353                -0.397100       0  \n",
              "..                    ...             ...                      ...     ...  \n",
              "564              1.629151       -1.360158                -0.709091       0  \n",
              "565              0.733827       -0.531855                -0.973978       0  \n",
              "566              0.414069       -1.104549                -0.318409       0  \n",
              "567              2.289985        1.919083                 2.219635       0  \n",
              "568             -1.745063       -0.048138                -0.751207       1  \n",
              "\n",
              "[569 rows x 31 columns]"
            ],
            "text/html": [
              "\n",
              "  <div id=\"df-453094f9-274c-4633-aca6-b570a8a42aea\">\n",
              "    <div class=\"colab-df-container\">\n",
              "      <div>\n",
              "<style scoped>\n",
              "    .dataframe tbody tr th:only-of-type {\n",
              "        vertical-align: middle;\n",
              "    }\n",
              "\n",
              "    .dataframe tbody tr th {\n",
              "        vertical-align: top;\n",
              "    }\n",
              "\n",
              "    .dataframe thead th {\n",
              "        text-align: right;\n",
              "    }\n",
              "</style>\n",
              "<table border=\"1\" class=\"dataframe\">\n",
              "  <thead>\n",
              "    <tr style=\"text-align: right;\">\n",
              "      <th></th>\n",
              "      <th>mean radius</th>\n",
              "      <th>mean texture</th>\n",
              "      <th>mean perimeter</th>\n",
              "      <th>mean area</th>\n",
              "      <th>mean smoothness</th>\n",
              "      <th>mean compactness</th>\n",
              "      <th>mean concavity</th>\n",
              "      <th>mean concave points</th>\n",
              "      <th>mean symmetry</th>\n",
              "      <th>mean fractal dimension</th>\n",
              "      <th>...</th>\n",
              "      <th>worst texture</th>\n",
              "      <th>worst perimeter</th>\n",
              "      <th>worst area</th>\n",
              "      <th>worst smoothness</th>\n",
              "      <th>worst compactness</th>\n",
              "      <th>worst concavity</th>\n",
              "      <th>worst concave points</th>\n",
              "      <th>worst symmetry</th>\n",
              "      <th>worst fractal dimension</th>\n",
              "      <th>target</th>\n",
              "    </tr>\n",
              "  </thead>\n",
              "  <tbody>\n",
              "    <tr>\n",
              "      <th>0</th>\n",
              "      <td>1.097064</td>\n",
              "      <td>-2.073335</td>\n",
              "      <td>1.269934</td>\n",
              "      <td>0.984375</td>\n",
              "      <td>1.568466</td>\n",
              "      <td>3.283515</td>\n",
              "      <td>2.652874</td>\n",
              "      <td>2.532475</td>\n",
              "      <td>2.217515</td>\n",
              "      <td>2.255747</td>\n",
              "      <td>...</td>\n",
              "      <td>-1.359293</td>\n",
              "      <td>2.303601</td>\n",
              "      <td>2.001237</td>\n",
              "      <td>1.307686</td>\n",
              "      <td>2.616665</td>\n",
              "      <td>2.109526</td>\n",
              "      <td>2.296076</td>\n",
              "      <td>2.750622</td>\n",
              "      <td>1.937015</td>\n",
              "      <td>0</td>\n",
              "    </tr>\n",
              "    <tr>\n",
              "      <th>1</th>\n",
              "      <td>1.829821</td>\n",
              "      <td>-0.353632</td>\n",
              "      <td>1.685955</td>\n",
              "      <td>1.908708</td>\n",
              "      <td>-0.826962</td>\n",
              "      <td>-0.487072</td>\n",
              "      <td>-0.023846</td>\n",
              "      <td>0.548144</td>\n",
              "      <td>0.001392</td>\n",
              "      <td>-0.868652</td>\n",
              "      <td>...</td>\n",
              "      <td>-0.369203</td>\n",
              "      <td>1.535126</td>\n",
              "      <td>1.890489</td>\n",
              "      <td>-0.375612</td>\n",
              "      <td>-0.430444</td>\n",
              "      <td>-0.146749</td>\n",
              "      <td>1.087084</td>\n",
              "      <td>-0.243890</td>\n",
              "      <td>0.281190</td>\n",
              "      <td>0</td>\n",
              "    </tr>\n",
              "    <tr>\n",
              "      <th>2</th>\n",
              "      <td>1.579888</td>\n",
              "      <td>0.456187</td>\n",
              "      <td>1.566503</td>\n",
              "      <td>1.558884</td>\n",
              "      <td>0.942210</td>\n",
              "      <td>1.052926</td>\n",
              "      <td>1.363478</td>\n",
              "      <td>2.037231</td>\n",
              "      <td>0.939685</td>\n",
              "      <td>-0.398008</td>\n",
              "      <td>...</td>\n",
              "      <td>-0.023974</td>\n",
              "      <td>1.347475</td>\n",
              "      <td>1.456285</td>\n",
              "      <td>0.527407</td>\n",
              "      <td>1.082932</td>\n",
              "      <td>0.854974</td>\n",
              "      <td>1.955000</td>\n",
              "      <td>1.152255</td>\n",
              "      <td>0.201391</td>\n",
              "      <td>0</td>\n",
              "    </tr>\n",
              "    <tr>\n",
              "      <th>3</th>\n",
              "      <td>-0.768909</td>\n",
              "      <td>0.253732</td>\n",
              "      <td>-0.592687</td>\n",
              "      <td>-0.764464</td>\n",
              "      <td>3.283553</td>\n",
              "      <td>3.402909</td>\n",
              "      <td>1.915897</td>\n",
              "      <td>1.451707</td>\n",
              "      <td>2.867383</td>\n",
              "      <td>4.910919</td>\n",
              "      <td>...</td>\n",
              "      <td>0.133984</td>\n",
              "      <td>-0.249939</td>\n",
              "      <td>-0.550021</td>\n",
              "      <td>3.394275</td>\n",
              "      <td>3.893397</td>\n",
              "      <td>1.989588</td>\n",
              "      <td>2.175786</td>\n",
              "      <td>6.046041</td>\n",
              "      <td>4.935010</td>\n",
              "      <td>0</td>\n",
              "    </tr>\n",
              "    <tr>\n",
              "      <th>4</th>\n",
              "      <td>1.750297</td>\n",
              "      <td>-1.151816</td>\n",
              "      <td>1.776573</td>\n",
              "      <td>1.826229</td>\n",
              "      <td>0.280372</td>\n",
              "      <td>0.539340</td>\n",
              "      <td>1.371011</td>\n",
              "      <td>1.428493</td>\n",
              "      <td>-0.009560</td>\n",
              "      <td>-0.562450</td>\n",
              "      <td>...</td>\n",
              "      <td>-1.466770</td>\n",
              "      <td>1.338539</td>\n",
              "      <td>1.220724</td>\n",
              "      <td>0.220556</td>\n",
              "      <td>-0.313395</td>\n",
              "      <td>0.613179</td>\n",
              "      <td>0.729259</td>\n",
              "      <td>-0.868353</td>\n",
              "      <td>-0.397100</td>\n",
              "      <td>0</td>\n",
              "    </tr>\n",
              "    <tr>\n",
              "      <th>...</th>\n",
              "      <td>...</td>\n",
              "      <td>...</td>\n",
              "      <td>...</td>\n",
              "      <td>...</td>\n",
              "      <td>...</td>\n",
              "      <td>...</td>\n",
              "      <td>...</td>\n",
              "      <td>...</td>\n",
              "      <td>...</td>\n",
              "      <td>...</td>\n",
              "      <td>...</td>\n",
              "      <td>...</td>\n",
              "      <td>...</td>\n",
              "      <td>...</td>\n",
              "      <td>...</td>\n",
              "      <td>...</td>\n",
              "      <td>...</td>\n",
              "      <td>...</td>\n",
              "      <td>...</td>\n",
              "      <td>...</td>\n",
              "      <td>...</td>\n",
              "    </tr>\n",
              "    <tr>\n",
              "      <th>564</th>\n",
              "      <td>2.110995</td>\n",
              "      <td>0.721473</td>\n",
              "      <td>2.060786</td>\n",
              "      <td>2.343856</td>\n",
              "      <td>1.041842</td>\n",
              "      <td>0.219060</td>\n",
              "      <td>1.947285</td>\n",
              "      <td>2.320965</td>\n",
              "      <td>-0.312589</td>\n",
              "      <td>-0.931027</td>\n",
              "      <td>...</td>\n",
              "      <td>0.117700</td>\n",
              "      <td>1.752563</td>\n",
              "      <td>2.015301</td>\n",
              "      <td>0.378365</td>\n",
              "      <td>-0.273318</td>\n",
              "      <td>0.664512</td>\n",
              "      <td>1.629151</td>\n",
              "      <td>-1.360158</td>\n",
              "      <td>-0.709091</td>\n",
              "      <td>0</td>\n",
              "    </tr>\n",
              "    <tr>\n",
              "      <th>565</th>\n",
              "      <td>1.704854</td>\n",
              "      <td>2.085134</td>\n",
              "      <td>1.615931</td>\n",
              "      <td>1.723842</td>\n",
              "      <td>0.102458</td>\n",
              "      <td>-0.017833</td>\n",
              "      <td>0.693043</td>\n",
              "      <td>1.263669</td>\n",
              "      <td>-0.217664</td>\n",
              "      <td>-1.058611</td>\n",
              "      <td>...</td>\n",
              "      <td>2.047399</td>\n",
              "      <td>1.421940</td>\n",
              "      <td>1.494959</td>\n",
              "      <td>-0.691230</td>\n",
              "      <td>-0.394820</td>\n",
              "      <td>0.236573</td>\n",
              "      <td>0.733827</td>\n",
              "      <td>-0.531855</td>\n",
              "      <td>-0.973978</td>\n",
              "      <td>0</td>\n",
              "    </tr>\n",
              "    <tr>\n",
              "      <th>566</th>\n",
              "      <td>0.702284</td>\n",
              "      <td>2.045574</td>\n",
              "      <td>0.672676</td>\n",
              "      <td>0.577953</td>\n",
              "      <td>-0.840484</td>\n",
              "      <td>-0.038680</td>\n",
              "      <td>0.046588</td>\n",
              "      <td>0.105777</td>\n",
              "      <td>-0.809117</td>\n",
              "      <td>-0.895587</td>\n",
              "      <td>...</td>\n",
              "      <td>1.374854</td>\n",
              "      <td>0.579001</td>\n",
              "      <td>0.427906</td>\n",
              "      <td>-0.809587</td>\n",
              "      <td>0.350735</td>\n",
              "      <td>0.326767</td>\n",
              "      <td>0.414069</td>\n",
              "      <td>-1.104549</td>\n",
              "      <td>-0.318409</td>\n",
              "      <td>0</td>\n",
              "    </tr>\n",
              "    <tr>\n",
              "      <th>567</th>\n",
              "      <td>1.838341</td>\n",
              "      <td>2.336457</td>\n",
              "      <td>1.982524</td>\n",
              "      <td>1.735218</td>\n",
              "      <td>1.525767</td>\n",
              "      <td>3.272144</td>\n",
              "      <td>3.296944</td>\n",
              "      <td>2.658866</td>\n",
              "      <td>2.137194</td>\n",
              "      <td>1.043695</td>\n",
              "      <td>...</td>\n",
              "      <td>2.237926</td>\n",
              "      <td>2.303601</td>\n",
              "      <td>1.653171</td>\n",
              "      <td>1.430427</td>\n",
              "      <td>3.904848</td>\n",
              "      <td>3.197605</td>\n",
              "      <td>2.289985</td>\n",
              "      <td>1.919083</td>\n",
              "      <td>2.219635</td>\n",
              "      <td>0</td>\n",
              "    </tr>\n",
              "    <tr>\n",
              "      <th>568</th>\n",
              "      <td>-1.808401</td>\n",
              "      <td>1.221792</td>\n",
              "      <td>-1.814389</td>\n",
              "      <td>-1.347789</td>\n",
              "      <td>-3.112085</td>\n",
              "      <td>-1.150752</td>\n",
              "      <td>-1.114873</td>\n",
              "      <td>-1.261820</td>\n",
              "      <td>-0.820070</td>\n",
              "      <td>-0.561032</td>\n",
              "      <td>...</td>\n",
              "      <td>0.764190</td>\n",
              "      <td>-1.432735</td>\n",
              "      <td>-1.075813</td>\n",
              "      <td>-1.859019</td>\n",
              "      <td>-1.207552</td>\n",
              "      <td>-1.305831</td>\n",
              "      <td>-1.745063</td>\n",
              "      <td>-0.048138</td>\n",
              "      <td>-0.751207</td>\n",
              "      <td>1</td>\n",
              "    </tr>\n",
              "  </tbody>\n",
              "</table>\n",
              "<p>569 rows × 31 columns</p>\n",
              "</div>\n",
              "      <button class=\"colab-df-convert\" onclick=\"convertToInteractive('df-453094f9-274c-4633-aca6-b570a8a42aea')\"\n",
              "              title=\"Convert this dataframe to an interactive table.\"\n",
              "              style=\"display:none;\">\n",
              "        \n",
              "  <svg xmlns=\"http://www.w3.org/2000/svg\" height=\"24px\"viewBox=\"0 0 24 24\"\n",
              "       width=\"24px\">\n",
              "    <path d=\"M0 0h24v24H0V0z\" fill=\"none\"/>\n",
              "    <path d=\"M18.56 5.44l.94 2.06.94-2.06 2.06-.94-2.06-.94-.94-2.06-.94 2.06-2.06.94zm-11 1L8.5 8.5l.94-2.06 2.06-.94-2.06-.94L8.5 2.5l-.94 2.06-2.06.94zm10 10l.94 2.06.94-2.06 2.06-.94-2.06-.94-.94-2.06-.94 2.06-2.06.94z\"/><path d=\"M17.41 7.96l-1.37-1.37c-.4-.4-.92-.59-1.43-.59-.52 0-1.04.2-1.43.59L10.3 9.45l-7.72 7.72c-.78.78-.78 2.05 0 2.83L4 21.41c.39.39.9.59 1.41.59.51 0 1.02-.2 1.41-.59l7.78-7.78 2.81-2.81c.8-.78.8-2.07 0-2.86zM5.41 20L4 18.59l7.72-7.72 1.47 1.35L5.41 20z\"/>\n",
              "  </svg>\n",
              "      </button>\n",
              "      \n",
              "  <style>\n",
              "    .colab-df-container {\n",
              "      display:flex;\n",
              "      flex-wrap:wrap;\n",
              "      gap: 12px;\n",
              "    }\n",
              "\n",
              "    .colab-df-convert {\n",
              "      background-color: #E8F0FE;\n",
              "      border: none;\n",
              "      border-radius: 50%;\n",
              "      cursor: pointer;\n",
              "      display: none;\n",
              "      fill: #1967D2;\n",
              "      height: 32px;\n",
              "      padding: 0 0 0 0;\n",
              "      width: 32px;\n",
              "    }\n",
              "\n",
              "    .colab-df-convert:hover {\n",
              "      background-color: #E2EBFA;\n",
              "      box-shadow: 0px 1px 2px rgba(60, 64, 67, 0.3), 0px 1px 3px 1px rgba(60, 64, 67, 0.15);\n",
              "      fill: #174EA6;\n",
              "    }\n",
              "\n",
              "    [theme=dark] .colab-df-convert {\n",
              "      background-color: #3B4455;\n",
              "      fill: #D2E3FC;\n",
              "    }\n",
              "\n",
              "    [theme=dark] .colab-df-convert:hover {\n",
              "      background-color: #434B5C;\n",
              "      box-shadow: 0px 1px 3px 1px rgba(0, 0, 0, 0.15);\n",
              "      filter: drop-shadow(0px 1px 2px rgba(0, 0, 0, 0.3));\n",
              "      fill: #FFFFFF;\n",
              "    }\n",
              "  </style>\n",
              "\n",
              "      <script>\n",
              "        const buttonEl =\n",
              "          document.querySelector('#df-453094f9-274c-4633-aca6-b570a8a42aea button.colab-df-convert');\n",
              "        buttonEl.style.display =\n",
              "          google.colab.kernel.accessAllowed ? 'block' : 'none';\n",
              "\n",
              "        async function convertToInteractive(key) {\n",
              "          const element = document.querySelector('#df-453094f9-274c-4633-aca6-b570a8a42aea');\n",
              "          const dataTable =\n",
              "            await google.colab.kernel.invokeFunction('convertToInteractive',\n",
              "                                                     [key], {});\n",
              "          if (!dataTable) return;\n",
              "\n",
              "          const docLinkHtml = 'Like what you see? Visit the ' +\n",
              "            '<a target=\"_blank\" href=https://colab.research.google.com/notebooks/data_table.ipynb>data table notebook</a>'\n",
              "            + ' to learn more about interactive tables.';\n",
              "          element.innerHTML = '';\n",
              "          dataTable['output_type'] = 'display_data';\n",
              "          await google.colab.output.renderOutput(dataTable, element);\n",
              "          const docLink = document.createElement('div');\n",
              "          docLink.innerHTML = docLinkHtml;\n",
              "          element.appendChild(docLink);\n",
              "        }\n",
              "      </script>\n",
              "    </div>\n",
              "  </div>\n",
              "  "
            ]
          },
          "metadata": {},
          "execution_count": 8
        }
      ]
    },
    {
      "cell_type": "markdown",
      "source": [
        "### Based on your observation, what is the advantage of standardization?\n",
        "\n",
        "Answer: In the unnormalized dataset, different features have very different scales. For example, the feature 'mean area' has an order of magnitude in the range of 10^2 - 10^3, whereas the feature 'mean smoothness' has an order of magnitude in the range of 10^(-2) - 10^(-1). Naturally, the features having values with high magnitudes would have larger variance, and thus, our classifier would focus on these features, and give very less weight to features with smaller variance due to small magnitudes, which would lead to inaccurate predictions on the test set. After normalizing with StandardScaler, all features obey a standard normal distribution and have a variance almost equal to 1. This prevents the classifier from being biased towards certain features by virtue of their magnitude, and helps maintain consistency in the dataset. "
      ],
      "metadata": {
        "id": "4hrBIUnZyJic"
      }
    },
    {
      "cell_type": "code",
      "source": [],
      "metadata": {
        "id": "ErBStA0_yJIi"
      },
      "execution_count": null,
      "outputs": []
    },
    {
      "cell_type": "markdown",
      "metadata": {
        "id": "aBmo0-W1yZFs"
      },
      "source": [
        "## Part 2: KNN Classifier without Standardization [2 Marks]\n",
        "Normally, standardizing data is a key step in preparing data for a KNN classifier. However, for educational purposes, let's first try to build a model without standardization. Let's create a KNN classifier to predict whether a patient has a malignant or benign tumor. \n",
        "\n",
        "Follow these steps: \n",
        "\n",
        "1.   Train a KNN Classifier using cross-validation on the dataset. Sweep `k` (number of neighbours) from 1 to 100, and show a plot of the mean cross-validation accuracy vs `k`. **[1]**\n",
        "2.   What is the best `k`? What is the highest cross-validation accuracy? **[0.5]**\n",
        "3. Comment on  which ranges of `k` lead to underfitted or overfitted models (hint: compare training and validation curves!). **[0.5]**\n",
        "\n",
        "\n"
      ]
    },
    {
      "cell_type": "code",
      "metadata": {
        "id": "cyEV-mVSAMaV",
        "colab": {
          "base_uri": "https://localhost:8080/",
          "height": 571
        },
        "outputId": "4d09d230-50d9-4345-8a17-b83f894f3fc2"
      },
      "source": [
        "### YOUR CODE HERE ###\n",
        "\n",
        "from sklearn.neighbors import KNeighborsClassifier\n",
        "from sklearn.model_selection import cross_validate\n",
        "import matplotlib.pyplot as plt\n",
        "\n",
        "\n",
        "k_scores_train = []\n",
        "k_scores_test = []\n",
        "\n",
        "index = 0\n",
        "\n",
        "for k in range(1, 101):\n",
        "    \n",
        "    knn = KNeighborsClassifier(n_neighbors=k)\n",
        "    scores = cross_validate(knn, X_train, y_train, cv=5, return_train_score=True)\n",
        "    k_scores_train.append(scores['train_score'].mean())\n",
        "    k_scores_test.append(scores['test_score'].mean())\n",
        "    \n",
        "    if (k_scores_test[k-1]>k_scores_test[index]):\n",
        "        index = k-1\n",
        "\n",
        "print(k_scores_test)\n",
        "\n",
        "plt.figure(figsize=(10, 8))\n",
        "plt.plot([i for i in range(1,101)], k_scores_test)\n",
        "plt.xlabel('K')\n",
        "plt.ylabel('Cross Validation Accuracy')\n",
        "\n",
        "print(\"Best k:\", (index+1))\n",
        "print(\"Highest cross validation accuracy = \", k_scores_test[index])\n",
        "\n",
        "plt.show()"
      ],
      "execution_count": null,
      "outputs": [
        {
          "output_type": "stream",
          "name": "stdout",
          "text": [
            "[0.9171202531645569, 0.9170886075949367, 0.9272151898734178, 0.927120253164557, 0.919620253164557, 0.9246518987341773, 0.9321518987341773, 0.9321518987341773, 0.9246202531645569, 0.9346518987341772, 0.9346518987341772, 0.9321202531645569, 0.9221518987341772, 0.9296835443037976, 0.9221518987341772, 0.9246202531645569, 0.9120569620253164, 0.9195886075949368, 0.9120886075949368, 0.9145886075949367, 0.9070253164556963, 0.9095253164556961, 0.9070569620253165, 0.9070253164556961, 0.9045253164556962, 0.9095569620253163, 0.9095569620253163, 0.9095569620253163, 0.9095569620253163, 0.9095569620253163, 0.9045569620253164, 0.9070569620253165, 0.9070569620253165, 0.9095569620253166, 0.9095569620253166, 0.9070569620253164, 0.9070569620253165, 0.9095569620253166, 0.9095569620253166, 0.9095569620253166, 0.9070569620253165, 0.9095569620253166, 0.9095569620253166, 0.9095569620253166, 0.9020569620253165, 0.9070569620253165, 0.9020253164556962, 0.9095569620253166, 0.9045569620253164, 0.9070569620253164, 0.9070886075949367, 0.9070569620253165, 0.9020253164556962, 0.9020253164556962, 0.9020253164556962, 0.9020253164556962, 0.9020569620253165, 0.9020253164556962, 0.9045569620253164, 0.9045569620253164, 0.9020569620253165, 0.9020253164556962, 0.9045569620253164, 0.9045569620253164, 0.9020253164556962, 0.9045569620253164, 0.9045569620253164, 0.9045569620253164, 0.9020253164556962, 0.9045569620253164, 0.9020253164556962, 0.9020253164556962, 0.8994936708860759, 0.8994936708860759, 0.8994936708860759, 0.8994936708860759, 0.9020253164556962, 0.9020253164556962, 0.8944936708860759, 0.896993670886076, 0.896993670886076, 0.896993670886076, 0.8944936708860759, 0.896993670886076, 0.8919620253164556, 0.896993670886076, 0.8919620253164556, 0.8944620253164557, 0.8919620253164556, 0.8944620253164557, 0.8919620253164556, 0.8944620253164557, 0.8944620253164557, 0.8944620253164557, 0.8894620253164556, 0.8944620253164557, 0.8869303797468355, 0.8869303797468355, 0.8869303797468355, 0.8894303797468355]\n",
            "Best k: 10\n",
            "Highest cross validation accuracy =  0.9346518987341772\n"
          ]
        },
        {
          "output_type": "display_data",
          "data": {
            "text/plain": [
              "<Figure size 720x576 with 1 Axes>"
            ],
            "image/png": "[encoded data removed]"
          },
          "metadata": {
            "needs_background": "light"
          }
        }
      ]
    },
    {
      "cell_type": "markdown",
      "source": [
        "**Best k: 10**\n",
        "\n",
        "**Highest cross validation accuracy =  0.9346518987341772**"
      ],
      "metadata": {
        "id": "Nhj22fjQJfkM"
      }
    },
    {
      "cell_type": "code",
      "source": [
        "plt.figure(figsize=(10, 8))\n",
        "plt.plot([i for i in range(1,101)], k_scores_train, label='Training Accuracy')\n",
        "plt.plot([i for i in range(1,101)], k_scores_test, label='Validation Accuracy')\n",
        "plt.xlabel('K')\n",
        "plt.ylabel('Accuracy')\n",
        "plt.legend()\n",
        "plt.show()"
      ],
      "metadata": {
        "colab": {
          "base_uri": "https://localhost:8080/",
          "height": 497
        },
        "id": "NeroJIAIClHj",
        "outputId": "f79c25ee-1b5b-4416-ff54-d00aac4f6707"
      },
      "execution_count": null,
      "outputs": [
        {
          "output_type": "display_data",
          "data": {
            "text/plain": [
              "<Figure size 720x576 with 1 Axes>"
            ],
            "image/png": "[encoded data removed]"
          },
          "metadata": {
            "needs_background": "light"
          }
        }
      ]
    },
    {
      "cell_type": "code",
      "source": [
        "# To find Overfit Region\n",
        "plt.figure(figsize=(10, 8))\n",
        "plt.plot([i for i in range(1,21)], k_scores_train[0:20], label='Training Accuracy')\n",
        "plt.plot([i for i in range(1,21)], k_scores_test[0:20], label='Validation Accuracy')\n",
        "plt.xlabel('K')\n",
        "plt.ylabel('Accuracy')\n",
        "plt.xticks(ticks = [i for i in range(1,21)])\n",
        "plt.legend()\n",
        "plt.show()"
      ],
      "metadata": {
        "colab": {
          "base_uri": "https://localhost:8080/",
          "height": 497
        },
        "id": "BeqYsBT7HYGo",
        "outputId": "024da654-d6f8-4c6d-b003-c5f8ca3d007a"
      },
      "execution_count": null,
      "outputs": [
        {
          "output_type": "display_data",
          "data": {
            "text/plain": [
              "<Figure size 720x576 with 1 Axes>"
            ],
            "image/png": "[encoded data removed]"
          },
          "metadata": {
            "needs_background": "light"
          }
        }
      ]
    },
    {
      "cell_type": "code",
      "source": [
        "# To find Underfit Region\n",
        "plt.figure(figsize=(10, 8))\n",
        "plt.plot([i for i in range(61,101)], k_scores_train[60:100], label='Training Accuracy')\n",
        "plt.plot([i for i in range(61,101)], k_scores_test[60:100], label='Validation Accuracy')\n",
        "plt.xlabel('K')\n",
        "plt.ylabel('Accuracy')\n",
        "plt.xticks(ticks = [i for i in range(61,101)])\n",
        "plt.legend()\n",
        "plt.show()"
      ],
      "metadata": {
        "colab": {
          "base_uri": "https://localhost:8080/",
          "height": 497
        },
        "id": "rgaMkh6HHjsO",
        "outputId": "45364675-5c10-4e12-c6a6-4008a8674808"
      },
      "execution_count": null,
      "outputs": [
        {
          "output_type": "display_data",
          "data": {
            "text/plain": [
              "<Figure size 720x576 with 1 Axes>"
            ],
            "image/png": "[encoded data removed]"
          },
          "metadata": {
            "needs_background": "light"
          }
        }
      ]
    },
    {
      "cell_type": "markdown",
      "source": [
        "**Overfitting**: The model is overfitted for **k in the range [1,5]**, as the training accuracy is much higher than validation accuracy\n",
        "\n",
        "**Underfitting**: The model is underfit for **k in the range [75,100]**, as the accuracy is consistently below 90%, and drastically drops as k increases"
      ],
      "metadata": {
        "id": "CVxGiJfeHPTD"
      }
    },
    {
      "cell_type": "markdown",
      "metadata": {
        "id": "VCyFm5S3srCO"
      },
      "source": [
        "## Part 3: Feature Selection [3 Marks]\n",
        "In this part, we aim to investigate the importance of each feature on the final classification accuracy. \n",
        "If we want to try every possible combination of features, we would have to test  $2^F$ different cases,  where F is the number of features, and in each case, we have to do a hyperparameter search (finding K, in KNN using cross-validation). That will take days!. \n",
        "\n",
        "To find more important features we will use a decision tree. based on a decision tree we can compute feature importance that is a metric for our feature selection (code is provided below).\n",
        "\n",
        "You can use [this link](https://machinelearningmastery.com/calculate-feature-importance-with-python/\n",
        ") to get familiar with extracting the feature impotance order of machine learning algorithms in Python.\n",
        "\n",
        "After we identified and removed the least important feature and evaluated a new KNN model on the new set of features, if the stop conditions (see step 7 below) are not met, we need to repeat the process and remove another feature.\n",
        "\n",
        "\n",
        "Design a function ( `Feature_selector`) that accepts your dataset (X_train , y_train) and a threshold as inputs and: **[1]**\n",
        "1. Fits a decision tree classifier on the training set.\n",
        "\n",
        "2. Extracts the feature importance order of the decision tree model.\n",
        "\n",
        "3. Removes the least important feature based on step 2. \n",
        "4. Then, a KNN model is trained on the remaining features. The number of neighbors (`k`) for each KNN model should be tuned using a 5-fold cross-validation.\n",
        "5. Store the best `mean cross-validation` score, the corresponding `k` (number of neighbours) value, and the removed feature in three lists.\n",
        "6. Repeat Steps 3-5 until you meet the stop condition (step 7). \n",
        " \n",
        "7. We will stop this process when (1) there is only one feature left, or (2) our cross-validation accuracy is dropped significantly compared to a model that uses all the features. In this function, we accept a threshold as an input argument. For example, if threshold=0.95 we do not continue removing features if our mean cross-validation accuracy after tuning `k` is bellow **0.95 $\\times$ Full Feature cross-validation accuracy**.\n",
        "\n",
        "8. Your function returns the list of removed features, the list of corresponding mean cross-validation accuracies, and the list of `k` values when a feature was removed (i.e., the lists that were appended to in Step 5).\n",
        "\n",
        "* Visualize your results by plotting the best mean cross-validation accuracy (based on the best value of `k`) on y axis vs. the number of features (x axis). This plot describes: what is the best cv score with 1 feature, 2 features, 3 features ... and all the features. **[0.5]**\n",
        "\n",
        "* Plot the best value of `k` (y-axis) vs. the number of features. This plot explains the trend of number of neighbours with respect to the number of features.  **[0.5]**\n",
        "\n",
        "* State what is the number of essential features for classification and justify your answer. **[1]**\n",
        "  \n",
        "  \n",
        "\n",
        "\n",
        "\n",
        "\n",
        "\n",
        "\n",
        "\n",
        " "
      ]
    },
    {
      "cell_type": "markdown",
      "metadata": {
        "id": "LPcG6_UIdAaT"
      },
      "source": [
        "You can use the following piece of code to start training a decision tree classifier and obtain its feature importance order. \n",
        "```\n",
        "from sklearn import tree\n",
        "dt = tree.DecisionTreeClassifier()\n",
        "dt.fit(X_train,y_train)\n",
        "importance = dt.feature_importances_\n",
        "```\n"
      ]
    },
    {
      "cell_type": "code",
      "source": [
        "from sklearn.tree import DecisionTreeClassifier\n",
        "import numpy as np\n",
        "dt = DecisionTreeClassifier(random_state=0)\n",
        "dt.fit(X_train,y_train)\n",
        "importance = dt.feature_importances_\n",
        "print(importance)"
      ],
      "metadata": {
        "colab": {
          "base_uri": "https://localhost:8080/"
        },
        "id": "pED2JijWNcb6",
        "outputId": "91e6f214-85c9-43c4-8da4-b92bc686a9df"
      },
      "execution_count": null,
      "outputs": [
        {
          "output_type": "stream",
          "name": "stdout",
          "text": [
            "[0.         0.         0.         0.         0.         0.\n",
            " 0.02112487 0.         0.01815419 0.         0.         0.\n",
            " 0.         0.04749283 0.01058659 0.         0.         0.\n",
            " 0.         0.01016418 0.         0.02784245 0.         0.08615112\n",
            " 0.00990228 0.         0.01032055 0.728114   0.03014695 0.        ]\n"
          ]
        }
      ]
    },
    {
      "cell_type": "code",
      "metadata": {
        "id": "oiFUWWnE0QVc"
      },
      "source": [
        "def Feature_selector (X_train , y_train , tr=0.95):\n",
        "### YOUR CODE HERE ###\n",
        "\n",
        "    dt = DecisionTreeClassifier(random_state=0)\n",
        "    dt.fit(X_train,y_train)\n",
        "    importance = dt.feature_importances_\n",
        "\n",
        "    removed_features = []\n",
        "    accuracy_removed_feature = []\n",
        "    best_k_feature_removed = []\n",
        "\n",
        "    feature_names = np.array(dataset.feature_names)\n",
        "    num_features = X_train.shape[1]\n",
        "\n",
        "    original_accuracy = 0.9346518987341772\n",
        "\n",
        "    while(num_features>1):\n",
        "\n",
        "        removed_column = np.where(importance == np.amin(importance))[0][0]\n",
        "        importance = np.delete(importance, removed_column)  #new importance list\n",
        "        X_train = np.delete(X_train, removed_column, axis=1)\n",
        "        removed_feature = feature_names[removed_column]\n",
        "        feature_names = np.delete(feature_names,removed_column)\n",
        "\n",
        "        k_scores_test = []\n",
        "        index = 0\n",
        "        for k in range(1, 101):\n",
        "            knn = KNeighborsClassifier(n_neighbors=k)\n",
        "            scores = cross_validate(knn, X_train, y_train, cv=5, return_train_score=True)\n",
        "            k_scores_test.append(scores['test_score'].mean())\n",
        "            if (k_scores_test[k-1]>k_scores_test[index]):\n",
        "                index = k-1\n",
        "        \n",
        "        best_k_feature_removed.append(index+1)\n",
        "        accuracy_removed_feature.append(k_scores_test[index])\n",
        "        removed_features.append(removed_feature)\n",
        "\n",
        "        num_features -= 1\n",
        "\n",
        "        if(k_scores_test[index] < original_accuracy*tr):\n",
        "            break\n",
        "\n",
        "\n",
        "    return removed_features, accuracy_removed_feature, best_k_feature_removed"
      ],
      "execution_count": null,
      "outputs": []
    },
    {
      "cell_type": "code",
      "source": [
        "removed_features, accuracy_removed_feature, best_k_feature_removed = Feature_selector(X_train, y_train)"
      ],
      "metadata": {
        "id": "mo4eK_KAYQDn"
      },
      "execution_count": null,
      "outputs": []
    },
    {
      "cell_type": "code",
      "source": [
        "removed_features = np.array(removed_features)\n",
        "accuracy_removed_feature = np.array(accuracy_removed_feature)\n",
        "best_k_feature_removed = np.array(best_k_feature_removed)\n",
        "\n",
        "removed_features = np.reshape(removed_features, (removed_features.shape[0],1))\n",
        "accuracy_removed_feature = np.reshape(accuracy_removed_feature, (accuracy_removed_feature.shape[0],1))\n",
        "best_k_feature_removed = np.reshape(best_k_feature_removed, (best_k_feature_removed.shape[0],1))\n",
        "\n",
        "removal_order = np.concatenate((removed_features, accuracy_removed_feature, best_k_feature_removed), axis=1)"
      ],
      "metadata": {
        "id": "dA-nUikodTw-"
      },
      "execution_count": null,
      "outputs": []
    },
    {
      "cell_type": "code",
      "source": [
        "print(removal_order)"
      ],
      "metadata": {
        "colab": {
          "base_uri": "https://localhost:8080/"
        },
        "id": "kdW2EOj2bWm8",
        "outputId": "cb6fbf4c-12b1-4872-e8cc-d7ee3ce83b3f"
      },
      "execution_count": null,
      "outputs": [
        {
          "output_type": "stream",
          "name": "stdout",
          "text": [
            "[['mean radius' '0.9346518987341772' '10']\n",
            " ['mean texture' '0.9346518987341772' '10']\n",
            " ['mean perimeter' '0.9321518987341773' '7']\n",
            " ['mean area' '0.9145886075949367' '34']\n",
            " ['mean smoothness' '0.9145886075949367' '34']\n",
            " ['mean compactness' '0.9145886075949367' '34']\n",
            " ['mean concave points' '0.9145886075949367' '34']\n",
            " ['mean fractal dimension' '0.9145886075949367' '34']\n",
            " ['radius error' '0.9145886075949367' '34']\n",
            " ['texture error' '0.9145886075949367' '34']\n",
            " ['perimeter error' '0.9145886075949367' '34']\n",
            " ['compactness error' '0.9145886075949367' '34']\n",
            " ['concavity error' '0.9145886075949367' '34']\n",
            " ['concave points error' '0.9145886075949367' '34']\n",
            " ['symmetry error' '0.9145886075949367' '34']\n",
            " ['worst radius' '0.9145886075949367' '34']\n",
            " ['worst perimeter' '0.9145569620253164' '61']\n",
            " ['worst compactness' '0.9145569620253164' '61']\n",
            " ['worst fractal dimension' '0.9145569620253164' '61']\n",
            " ['worst smoothness' '0.9145569620253164' '61']\n",
            " ['fractal dimension error' '0.9145569620253164' '61']\n",
            " ['worst concavity' '0.9145569620253164' '61']\n",
            " ['smoothness error' '0.9145569620253164' '61']\n",
            " ['mean symmetry' '0.9145569620253164' '61']\n",
            " ['mean concavity' '0.9145569620253164' '61']\n",
            " ['worst texture' '0.9145569620253164' '64']\n",
            " ['worst symmetry' '0.9145569620253164' '64']\n",
            " ['area error' '0.9145886075949367' '34']\n",
            " ['worst area' '0.9246202531645569' '34']]\n"
          ]
        }
      ]
    },
    {
      "cell_type": "code",
      "source": [
        "accuracy_removed_feature_reverse = np.flip(accuracy_removed_feature)\n",
        "accuracy_removed_feature_reverse = np.reshape(accuracy_removed_feature_reverse, (accuracy_removed_feature_reverse.shape[0]))\n",
        "accuracy_removed_feature_reverse = accuracy_removed_feature_reverse.tolist()\n",
        "accuracy_removed_feature_reverse.append(0.9346518987341772) #all features accuracy\n",
        "\n",
        "plt.plot([i for i in range(1,31)], accuracy_removed_feature_reverse)\n",
        "plt.xlabel('Number of Features')\n",
        "plt.ylabel('Cross Validation Accuracy')\n",
        "plt.show()"
      ],
      "metadata": {
        "id": "Kfwvqy9IbaFo",
        "colab": {
          "base_uri": "https://localhost:8080/",
          "height": 279
        },
        "outputId": "9e2d6eac-2f37-46d0-f444-3ea1b580d34c"
      },
      "execution_count": null,
      "outputs": [
        {
          "output_type": "display_data",
          "data": {
            "text/plain": [
              "<Figure size 432x288 with 1 Axes>"
            ],
            "image/png": "[encoded data removed]"
          },
          "metadata": {
            "needs_background": "light"
          }
        }
      ]
    },
    {
      "cell_type": "code",
      "source": [
        "best_k_feature_removed_reverse = np.flip(best_k_feature_removed)\n",
        "best_k_feature_removed_reverse = np.reshape(best_k_feature_removed_reverse, (best_k_feature_removed_reverse.shape[0]))\n",
        "best_k_feature_removed_reverse = best_k_feature_removed_reverse.tolist()\n",
        "best_k_feature_removed_reverse.append(10) #best k for all features\n",
        "\n",
        "plt.plot([i for i in range(1,31)], best_k_feature_removed_reverse)\n",
        "plt.xlabel('Number of Features')\n",
        "plt.ylabel('Best Value of K')\n",
        "plt.show()"
      ],
      "metadata": {
        "colab": {
          "base_uri": "https://localhost:8080/",
          "height": 279
        },
        "id": "8wkE25uYk2gx",
        "outputId": "3fa6cee8-dc8c-460f-8aeb-d32c3c8c1ac0"
      },
      "execution_count": null,
      "outputs": [
        {
          "output_type": "display_data",
          "data": {
            "text/plain": [
              "<Figure size 432x288 with 1 Axes>"
            ],
            "image/png": "[encoded data removed]"
          },
          "metadata": {
            "needs_background": "light"
          }
        }
      ]
    },
    {
      "cell_type": "markdown",
      "source": [
        "**Number of essential features for classification** can be taken as 28, as the accuracy remains constant from 30 features to 28 features, at 93.465%. However, if we allow for a small reduction in accuracy, we can also go with 27 features, at 93.215% accuracy."
      ],
      "metadata": {
        "id": "N2yEZcOel2g5"
      }
    },
    {
      "cell_type": "markdown",
      "metadata": {
        "id": "GTXjb1sWmDZL"
      },
      "source": [
        "## Part 4: Standardization [1 Marks]\n",
        "\n",
        "Standardizing the data usually means scaling our data to have a mean of zero and a standard deviation of one. \n",
        "\n",
        "**Note:** When we standardize a dataset, do we care if the data points are in our training set or test set? Yes! The training set is available for us to train a model - we can use it however we want. The test set, however, represents a subset of data that is not available for us during training. For example, the test set can represent the data that someone who bought our model would use to see how the model performs (which they are not willing to share with us).\n",
        "Therefore, we cannot compute the mean or standard deviation of the whole dataset to standardize it - we can only calculate the mean and standard deviation of the training set. However, when we sell a model to someone, we can say what our scalers (mean and standard deviation of our training set) was. They can scale their data (test set) with our training set's mean and standard deviation. Of course, there is no guarantee that the test set would have a mean of zero and a standard deviation of one, but the model should still work well enough.\n",
        "\n",
        "**To summarize: We fit the StandardScaler only on the training set. We transform both training and test sets with that scaler.**\n",
        "\n",
        "1. Standardize the training  and test data ([Help](https://scikit-learn.org/stable/modules/preprocessing.html)) \n",
        "\n",
        "2. Call your ``Feature_selector`` function on the standardized training data with a threshold of 95\\%. \n",
        " * Plot the Cross validation accuracy when we have the standardized data (this part) and the original training data (last part) vs. the Number of features in a single plot (to compare them easily).\n",
        "\n",
        "3. Discuss how standardization (helped/hurt) your model and its performance? Discuss which cases lead to a higher cross validation accuracy (how many features? which features? What K?)\n"
      ]
    },
    {
      "cell_type": "code",
      "metadata": {
        "id": "xAwAGR6_2bu3"
      },
      "source": [
        "### YOUR CODE HERE ###\n",
        "scaler = StandardScaler()\n",
        "\n",
        "scaler = scaler.fit(X_train)\n",
        "\n",
        "X_train_normalized = scaler.transform(X_train)\n",
        "X_test_normalized = scaler.fit_transform(X_test)\n",
        "\n",
        "removed_features_normalized, accuracy_removed_feature_normalized, best_k_feature_removed_normalized = Feature_selector(X_train_normalized, y_train)"
      ],
      "execution_count": null,
      "outputs": []
    },
    {
      "cell_type": "code",
      "source": [
        "removed_features_normalized = np.array(removed_features_normalized)\n",
        "accuracy_removed_feature_normalized = np.array(accuracy_removed_feature_normalized)\n",
        "best_k_feature_removed_normalized = np.array(best_k_feature_removed_normalized)\n",
        "\n",
        "removed_features_normalized = np.reshape(removed_features_normalized, (removed_features_normalized.shape[0],1))\n",
        "accuracy_removed_feature_normalized = np.reshape(accuracy_removed_feature_normalized, (accuracy_removed_feature_normalized.shape[0],1))\n",
        "best_k_feature_removed_normalized = np.reshape(best_k_feature_removed_normalized, (best_k_feature_removed_normalized.shape[0],1))\n",
        "\n",
        "removal_order_normalized = np.concatenate((removed_features_normalized, accuracy_removed_feature_normalized, best_k_feature_removed_normalized), axis=1)"
      ],
      "metadata": {
        "id": "Lp_b5m82qXta"
      },
      "execution_count": null,
      "outputs": []
    },
    {
      "cell_type": "code",
      "source": [
        "print(removal_order_normalized)"
      ],
      "metadata": {
        "colab": {
          "base_uri": "https://localhost:8080/"
        },
        "id": "fO9LN2GhoEmM",
        "outputId": "82a11cc2-4562-46f7-b0a7-59178b3e9e6d"
      },
      "execution_count": null,
      "outputs": [
        {
          "output_type": "stream",
          "name": "stdout",
          "text": [
            "[['mean radius' '0.9649683544303798' '8']\n",
            " ['mean texture' '0.9623417721518986' '4']\n",
            " ['mean perimeter' '0.9598417721518986' '8']\n",
            " ['mean area' '0.9598417721518988' '8']\n",
            " ['mean smoothness' '0.9572468354430381' '5']\n",
            " ['mean compactness' '0.9623417721518986' '7']\n",
            " ['mean concave points' '0.9598101265822784' '8']\n",
            " ['mean fractal dimension' '0.9598417721518986' '8']\n",
            " ['radius error' '0.9573417721518988' '8']\n",
            " ['texture error' '0.9598101265822784' '6']\n",
            " ['perimeter error' '0.9599050632911392' '12']\n",
            " ['compactness error' '0.9623101265822784' '4']\n",
            " ['concavity error' '0.9598101265822784' '3']\n",
            " ['concave points error' '0.9648417721518987' '4']\n",
            " ['symmetry error' '0.9674050632911392' '6']\n",
            " ['worst radius' '0.9623101265822784' '3']\n",
            " ['worst perimeter' '0.9547151898734179' '3']\n",
            " ['worst compactness' '0.952246835443038' '4']\n",
            " ['worst fractal dimension' '0.9598101265822784' '6']\n",
            " ['worst smoothness' '0.9573101265822783' '6']\n",
            " ['fractal dimension error' '0.957373417721519' '12']\n",
            " ['worst concavity' '0.9549050632911392' '20']\n",
            " ['smoothness error' '0.9599050632911392' '6']\n",
            " ['mean symmetry' '0.9674367088607594' '4']\n",
            " ['mean concavity' '0.967373417721519' '6']\n",
            " ['worst texture' '0.9573101265822783' '3']\n",
            " ['worst symmetry' '0.9572784810126581' '5']\n",
            " ['area error' '0.9496518987341773' '6']\n",
            " ['worst area' '0.9246202531645569' '34']]\n"
          ]
        }
      ]
    },
    {
      "cell_type": "code",
      "source": [
        "accuracy_removed_feature_normalized_reverse = np.flip(accuracy_removed_feature_normalized)\n",
        "accuracy_removed_feature_normalized_reverse = np.reshape(accuracy_removed_feature_normalized_reverse, (accuracy_removed_feature_normalized_reverse.shape[0]))\n",
        "accuracy_removed_feature_normalized_reverse = accuracy_removed_feature_normalized_reverse.tolist()"
      ],
      "metadata": {
        "id": "CJkST7VcoXYX"
      },
      "execution_count": null,
      "outputs": []
    },
    {
      "cell_type": "code",
      "source": [
        "k_scores_test = []\n",
        "index = 0\n",
        "for k in range(1, 101):\n",
        "    knn = KNeighborsClassifier(n_neighbors=k)\n",
        "    scores = cross_validate(knn, X_train_normalized, y_train, cv=5, return_train_score=True)\n",
        "    k_scores_test.append(scores['test_score'].mean())\n",
        "    if (k_scores_test[k-1]>k_scores_test[index]):\n",
        "        index = k-1\n",
        "\n",
        "print(index+1)\n",
        "accuracy_removed_feature_normalized_reverse.append(k_scores_test[index])\n",
        "print(accuracy_removed_feature_normalized_reverse)"
      ],
      "metadata": {
        "colab": {
          "base_uri": "https://localhost:8080/"
        },
        "id": "VxcROZuUn3Kv",
        "outputId": "255c1f6d-d4c6-40b9-d5b8-1aca516eb1f8"
      },
      "execution_count": null,
      "outputs": [
        {
          "output_type": "stream",
          "name": "stdout",
          "text": [
            "10\n",
            "[0.9246202531645569, 0.9496518987341773, 0.9572784810126581, 0.9573101265822783, 0.967373417721519, 0.9674367088607594, 0.9599050632911392, 0.9549050632911392, 0.957373417721519, 0.9573101265822783, 0.9598101265822784, 0.952246835443038, 0.9547151898734179, 0.9623101265822784, 0.9674050632911392, 0.9648417721518987, 0.9598101265822784, 0.9623101265822784, 0.9599050632911392, 0.9598101265822784, 0.9573417721518988, 0.9598417721518986, 0.9598101265822784, 0.9623417721518986, 0.9572468354430381, 0.9598417721518988, 0.9598417721518986, 0.9623417721518986, 0.9649683544303798, 0.9674367088607594]\n"
          ]
        }
      ]
    },
    {
      "cell_type": "code",
      "source": [
        "plt.plot([i for i in range(1,31)], accuracy_removed_feature_reverse, label='Original Data')  #original data\n",
        "plt.plot([i for i in range(1,31)], accuracy_removed_feature_normalized_reverse, label='Standardized Data')  #standardized data\n",
        "plt.xlabel('Number of Features')\n",
        "plt.ylabel('Cross Validation Accuracy')\n",
        "plt.legend()\n",
        "plt.show()"
      ],
      "metadata": {
        "colab": {
          "base_uri": "https://localhost:8080/",
          "height": 283
        },
        "id": "gX9dcIw7qcUd",
        "outputId": "db3f6d6f-4f92-459c-8a92-c9cfd653bd55"
      },
      "execution_count": null,
      "outputs": [
        {
          "output_type": "display_data",
          "data": {
            "text/plain": [
              "<Figure size 432x288 with 1 Axes>"
            ],
            "image/png": "[encoded data removed]"
          },
          "metadata": {
            "needs_background": "light"
          }
        }
      ]
    },
    {
      "cell_type": "markdown",
      "source": [
        "Standardization helped the model and led to significant increase in accuracy. Highest cross validation accuracy is seen with standardized data for:\n",
        "\n",
        "Number of Features = 6\n",
        "\n",
        "Accuracy = 96.74367088607594%\n",
        "\n",
        "K = 4\n",
        "\n",
        "Features included: 'mean symmetry', 'mean concavity', 'worst texture', 'worst symmetry', 'area error', 'worst area'\n"
      ],
      "metadata": {
        "id": "omDdEFAOqKoY"
      }
    },
    {
      "cell_type": "code",
      "source": [],
      "metadata": {
        "id": "-l-fgiZSnuQY"
      },
      "execution_count": null,
      "outputs": []
    },
    {
      "cell_type": "markdown",
      "source": [
        "## Part 5: Decision Tree Classifier [1.5 Mark]\n",
        "\n",
        "Train a decision tree classifier on the standardized dataset (read the [documentation](https://scikit-learn.org/stable/modules/generated/sklearn.tree.DecisionTreeClassifier.html) and check the example there.) Tune the `max_depth` and `min_samples_split` parameters of the tree using cross-validation (CV).\n",
        " * Compare the decision tree's performance (mean CV score) with KNN, both using all the features. \n"
      ],
      "metadata": {
        "id": "HdmuHF4kGH5M"
      }
    },
    {
      "cell_type": "code",
      "source": [
        "### YOUR CODE HERE ###\n",
        "\n",
        "scores_all = []\n",
        "\n",
        "for depth in range(1,16):\n",
        "    scores_list = []\n",
        "    for split in range(2,16):\n",
        "        dt = DecisionTreeClassifier(splitter='best', max_depth=depth, min_samples_split=split, random_state=0)\n",
        "        scores = cross_validate(dt, X_train_normalized, y_train, cv=5, return_train_score=True)\n",
        "        scores_list.append(scores['test_score'].mean())\n",
        "    scores_all.append(scores_list)\n",
        "\n",
        "print(scores_all)\n",
        "scores_all = np.array(scores_all)\n",
        "highest_score = np.max(scores_all)\n",
        "\n",
        "index = np.where(scores_all==highest_score)\n",
        "\n",
        "\n",
        "best_depth = index[0][0]+1\n",
        "best_split = index[1][0]+2"
      ],
      "metadata": {
        "id": "laYRhTK4Kytl",
        "colab": {
          "base_uri": "https://localhost:8080/"
        },
        "outputId": "53a68cd2-e48d-4e78-9499-bbce7cf59e92"
      },
      "execution_count": null,
      "outputs": [
        {
          "output_type": "stream",
          "name": "stdout",
          "text": [
            "[[0.901993670886076, 0.901993670886076, 0.901993670886076, 0.901993670886076, 0.901993670886076, 0.901993670886076, 0.901993670886076, 0.901993670886076, 0.901993670886076, 0.901993670886076, 0.901993670886076, 0.901993670886076, 0.901993670886076, 0.901993670886076], [0.9045253164556962, 0.9045253164556962, 0.9045253164556962, 0.9045253164556962, 0.9045253164556962, 0.9045253164556962, 0.9045253164556962, 0.9045253164556962, 0.9045253164556962, 0.9045253164556962, 0.9045253164556962, 0.9045253164556962, 0.9045253164556962, 0.9045253164556962], [0.9246202531645571, 0.9246202531645571, 0.9246202531645571, 0.9246202531645571, 0.9246202531645571, 0.9246202531645571, 0.9171202531645569, 0.9171202531645569, 0.9171202531645569, 0.9171202531645569, 0.9146202531645569, 0.9146202531645569, 0.9146202531645569, 0.9146202531645569], [0.9271518987341774, 0.9271518987341774, 0.9296518987341773, 0.9296518987341773, 0.9296518987341773, 0.9296518987341773, 0.9296518987341773, 0.9296518987341773, 0.9296518987341773, 0.9296518987341773, 0.9271518987341771, 0.9196518987341772, 0.9196518987341772, 0.9171202531645569], [0.9246518987341773, 0.9221518987341772, 0.9271518987341774, 0.9271518987341774, 0.9271518987341774, 0.9271518987341774, 0.9321518987341773, 0.9296518987341773, 0.9296518987341773, 0.9296518987341773, 0.9271518987341771, 0.9196518987341772, 0.9196518987341772, 0.9171202531645569], [0.9020253164556962, 0.9020253164556962, 0.9045253164556962, 0.9095886075949366, 0.9145886075949367, 0.9196518987341772, 0.9271518987341774, 0.9296518987341773, 0.9296518987341773, 0.9296518987341773, 0.9271518987341774, 0.9221518987341772, 0.9221518987341772, 0.919620253164557], [0.9070253164556963, 0.9070253164556963, 0.9020253164556962, 0.9095886075949366, 0.9145886075949367, 0.9196518987341772, 0.9271518987341774, 0.9271518987341774, 0.9271518987341774, 0.9271518987341774, 0.9246518987341773, 0.9196518987341772, 0.9196518987341772, 0.9171202531645569], [0.9070253164556963, 0.9070253164556963, 0.9020253164556962, 0.9095886075949366, 0.9145886075949367, 0.9196518987341772, 0.9271518987341774, 0.9271518987341774, 0.9271518987341774, 0.9271518987341774, 0.9246518987341773, 0.9196518987341772, 0.9196518987341772, 0.9171202531645569], [0.9070253164556963, 0.9070253164556963, 0.9020253164556962, 0.9095886075949366, 0.9145886075949367, 0.9196518987341772, 0.9271518987341774, 0.9271518987341774, 0.9271518987341774, 0.9271518987341774, 0.9246518987341773, 0.9196518987341772, 0.9196518987341772, 0.9171202531645569], [0.9070253164556963, 0.9070253164556963, 0.9020253164556962, 0.9095886075949366, 0.9145886075949367, 0.9196518987341772, 0.9271518987341774, 0.9271518987341774, 0.9271518987341774, 0.9271518987341774, 0.9246518987341773, 0.9196518987341772, 0.9196518987341772, 0.9171202531645569], [0.9070253164556963, 0.9070253164556963, 0.9020253164556962, 0.9095886075949366, 0.9145886075949367, 0.9196518987341772, 0.9271518987341774, 0.9271518987341774, 0.9271518987341774, 0.9271518987341774, 0.9246518987341773, 0.9196518987341772, 0.9196518987341772, 0.9171202531645569], [0.9070253164556963, 0.9070253164556963, 0.9020253164556962, 0.9095886075949366, 0.9145886075949367, 0.9196518987341772, 0.9271518987341774, 0.9271518987341774, 0.9271518987341774, 0.9271518987341774, 0.9246518987341773, 0.9196518987341772, 0.9196518987341772, 0.9171202531645569], [0.9070253164556963, 0.9070253164556963, 0.9020253164556962, 0.9095886075949366, 0.9145886075949367, 0.9196518987341772, 0.9271518987341774, 0.9271518987341774, 0.9271518987341774, 0.9271518987341774, 0.9246518987341773, 0.9196518987341772, 0.9196518987341772, 0.9171202531645569], [0.9070253164556963, 0.9070253164556963, 0.9020253164556962, 0.9095886075949366, 0.9145886075949367, 0.9196518987341772, 0.9271518987341774, 0.9271518987341774, 0.9271518987341774, 0.9271518987341774, 0.9246518987341773, 0.9196518987341772, 0.9196518987341772, 0.9171202531645569], [0.9070253164556963, 0.9070253164556963, 0.9020253164556962, 0.9095886075949366, 0.9145886075949367, 0.9196518987341772, 0.9271518987341774, 0.9271518987341774, 0.9271518987341774, 0.9271518987341774, 0.9246518987341773, 0.9196518987341772, 0.9196518987341772, 0.9171202531645569]]\n"
          ]
        }
      ]
    },
    {
      "cell_type": "code",
      "source": [
        "print(\"Max Accuracy of Decision Tree = \", highest_score)\n",
        "print(\"Depth = \", best_depth)\n",
        "print(\"Min Samples Split = \", best_split)"
      ],
      "metadata": {
        "colab": {
          "base_uri": "https://localhost:8080/"
        },
        "id": "vLhwbWW2sT13",
        "outputId": "d7507f3f-8547-4345-c1a3-142b7110f788"
      },
      "execution_count": null,
      "outputs": [
        {
          "output_type": "stream",
          "name": "stdout",
          "text": [
            "Max Accuracy of Decision Tree =  0.9321518987341773\n",
            "Depth =  5\n",
            "Min Samples Split =  8\n"
          ]
        }
      ]
    },
    {
      "cell_type": "code",
      "source": [
        "print(\"Highest Accuracy with Decision Tree Classifier = \",scores_all[4][6])"
      ],
      "metadata": {
        "colab": {
          "base_uri": "https://localhost:8080/"
        },
        "id": "R297O8bOwc8s",
        "outputId": "a6f9f658-9576-4c7f-aaa0-53282b8daaef"
      },
      "execution_count": null,
      "outputs": [
        {
          "output_type": "stream",
          "name": "stdout",
          "text": [
            "Highest Accuracy with Decision Tree Classifier =  0.9321518987341773\n"
          ]
        }
      ]
    },
    {
      "cell_type": "markdown",
      "source": [
        "The KNN classifier with all features and K = 10 on the Standardized dataset gives higher accuracy of 96.74367088607594% than the Decision Tree Classifier with Depth = 5 and Min Samples Split = 8 on the Standardized dataset, with an accuracy of 93.21518987341773%"
      ],
      "metadata": {
        "id": "i4LZtCENsy4o"
      }
    },
    {
      "cell_type": "markdown",
      "metadata": {
        "id": "k7QjKjHn2TZR"
      },
      "source": [
        "## Part 6: Test Data [0.5 Mark]\n",
        "\n",
        "Now that you've created several models, pick your best one (highest CV accuracy) and apply it to the test dataset you had initially set aside. Discuss your results."
      ]
    },
    {
      "cell_type": "markdown",
      "source": [
        "Classifier used is KNN with all features and K = 10"
      ],
      "metadata": {
        "id": "oY7Fx-u1uLuI"
      }
    },
    {
      "cell_type": "code",
      "metadata": {
        "id": "acdJ7EijBYqB",
        "colab": {
          "base_uri": "https://localhost:8080/"
        },
        "outputId": "337114db-e2d7-4234-ac0d-88ab4947ec0c"
      },
      "source": [
        "### YOUR CODE HERE ###\n",
        "import sklearn.metrics as metrics\n",
        "\n",
        "knn = KNeighborsClassifier(n_neighbors=10)\n",
        "\n",
        "knn = knn.fit(X_train_normalized, y_train)\n",
        "\n",
        "y_pred = knn.predict(X_test_normalized)\n",
        "\n",
        "print(\"Accuracy = \", (y_test==y_pred).sum()/len(y_test))"
      ],
      "execution_count": null,
      "outputs": [
        {
          "output_type": "stream",
          "name": "stdout",
          "text": [
            "Accuracy =  0.9590643274853801\n"
          ]
        }
      ]
    },
    {
      "cell_type": "markdown",
      "metadata": {
        "id": "yhCf82AOe3IS"
      },
      "source": [
        "References:\n",
        "\n",
        "https://towardsdatascience.com/decision-trees-in-machine-learning-641b9c4e8052\n",
        "\n",
        "https://www.analyticsvidhya.com/blog/2021/02/machine-learning-101-decision-tree-algorithm-for-classification/"
      ]
    },
    {
      "cell_type": "code",
      "source": [],
      "metadata": {
        "id": "9B0kDwXgy7hq"
      },
      "execution_count": null,
      "outputs": []
    }
  ]
}
